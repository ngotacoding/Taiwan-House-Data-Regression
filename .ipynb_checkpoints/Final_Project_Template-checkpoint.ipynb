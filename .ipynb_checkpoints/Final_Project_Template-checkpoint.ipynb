{
 "cells": [
  {
   "cell_type": "markdown",
   "metadata": {},
   "source": [
    "<p style=\"text-align:center\">\n",
    "    <a href=\"https://skills.network/?utm_medium=Exinfluencer&utm_source=Exinfluencer&utm_content=000026UJ&utm_term=10006555&utm_id=NA-SkillsNetwork-Channel-SkillsNetworkCoursesIBMDeveloperSkillsNetworkML0101ENSkillsNetwork20718538-2022-01-01\" target=\"_blank\">\n",
    "    <img src=\"https://cf-courses-data.s3.us.cloud-object-storage.appdomain.cloud/assets/logos/SN_web_lightmode.png\" width=\"200\" alt=\"Skills Network Logo\"  />\n",
    "    </a>\n",
    "</p>\n",
    "\n",
    "<h1 align=\"center\"><font size=\"5\">Supervised Machine Learning: Regression - Final Assignment</font></h1>\n"
   ]
  },
  {
   "cell_type": "markdown",
   "metadata": {},
   "source": [
    "## Instructions:\n",
    "\n",
    "In this Assignment, you will demonstrate the data regression skills you have learned by completing this course. You are expected to leverage a wide variety of tools, but also this report should focus on present findings, insights, and next steps. You may include some visuals from your code output, but this report is intended as a summary of your findings, not as a code review.\n",
    "\n",
    "The grading will center around 5 main points:\n",
    "\n",
    "1.  Does the report include a section describing the data?\n",
    "2.  Does the report include a paragraph detailing the main objective(s) of this analysis?\n",
    "3.  Does the report include a section with variations of linear regression models and specifies which one is the model that best suits the main objective(s) of this analysis.\n",
    "4.  Does the report include a clear and well-presented section with key findings related to the main objective(s) of the analysis?\n",
    "5.  Does the report highlight possible flaws in the model and a plan of action to revisit this analysis with additional data or different predictive modeling techniques?\n"
   ]
  },
  {
   "cell_type": "markdown",
   "metadata": {},
   "source": [
    "## Import the required libraries\n"
   ]
  },
  {
   "cell_type": "markdown",
   "metadata": {},
   "source": [
    "The following required modules are pre-installed in the Skills Network Labs environment. However if you run this notebook commands in a different Jupyter environment (e.g. Watson Studio or Ananconda) you will need to install these libraries by removing the `#` sign before `!mamba` in the code cell below.\n"
   ]
  },
  {
   "cell_type": "code",
   "execution_count": 1,
   "metadata": {},
   "outputs": [],
   "source": [
    "# All Libraries required for this lab are listed below. The libraries pre-installed on Skills Network Labs are commented.\n",
    "# !mamba install -qy pandas==1.3.4 numpy==1.21.4 seaborn==0.9.0 matplotlib==3.5.0 scikit-learn==0.20.1\n",
    "# Note: If your environment doesn't support \"!mamba install\", use \"!pip install\""
   ]
  },
  {
   "cell_type": "code",
   "execution_count": 2,
   "metadata": {},
   "outputs": [],
   "source": [
    "import numpy as np\n",
    "import pandas as pd\n",
    "import seaborn as sns\n",
    "import warnings\n",
    "import matplotlib as mpl\n",
    "import matplotlib.pyplot as plt\n",
    "from sklearn.model_selection import train_test_split\n",
    "from sklearn.preprocessing import StandardScaler\n",
    "from sklearn.preprocessing import PolynomialFeatures\n",
    "from sklearn.pipeline import Pipeline\n",
    "from sklearn.model_selection import cross_val_predict\n",
    "from sklearn.model_selection import KFold\n",
    "from sklearn.model_selection import GridSearchCV\n",
    "from sklearn.linear_model import LinearRegression\n",
    "from sklearn.linear_model import Ridge\n",
    "from sklearn.linear_model import Lasso\n",
    "from sklearn.metrics import mean_absolute_error\n",
    "\n",
    "warnings.filterwarnings('ignore')"
   ]
  },
  {
   "cell_type": "markdown",
   "metadata": {},
   "source": [
    "## Importing the Dataset\n"
   ]
  },
  {
   "cell_type": "markdown",
   "metadata": {},
   "source": [
    "Before you begin, you will need to choose a data set that you feel passionate about. You can brainstorm with your peers about great public data sets using the discussion board in this module.\n"
   ]
  },
  {
   "cell_type": "markdown",
   "metadata": {},
   "source": [
    "Read your chosen dataset into pandas dataframe:\n"
   ]
  },
  {
   "cell_type": "code",
   "execution_count": 3,
   "metadata": {},
   "outputs": [
    {
     "data": {
      "text/html": [
       "<div>\n",
       "<style scoped>\n",
       "    .dataframe tbody tr th:only-of-type {\n",
       "        vertical-align: middle;\n",
       "    }\n",
       "\n",
       "    .dataframe tbody tr th {\n",
       "        vertical-align: top;\n",
       "    }\n",
       "\n",
       "    .dataframe thead th {\n",
       "        text-align: right;\n",
       "    }\n",
       "</style>\n",
       "<table border=\"1\" class=\"dataframe\">\n",
       "  <thead>\n",
       "    <tr style=\"text-align: right;\">\n",
       "      <th></th>\n",
       "      <th>date</th>\n",
       "      <th>age</th>\n",
       "      <th>nearest MRT station</th>\n",
       "      <th>convenience stores</th>\n",
       "      <th>latitude</th>\n",
       "      <th>longitude</th>\n",
       "      <th>price per unit area</th>\n",
       "    </tr>\n",
       "    <tr>\n",
       "      <th>No</th>\n",
       "      <th></th>\n",
       "      <th></th>\n",
       "      <th></th>\n",
       "      <th></th>\n",
       "      <th></th>\n",
       "      <th></th>\n",
       "      <th></th>\n",
       "    </tr>\n",
       "  </thead>\n",
       "  <tbody>\n",
       "    <tr>\n",
       "      <th>1</th>\n",
       "      <td>2012.917</td>\n",
       "      <td>32.0</td>\n",
       "      <td>84.87882</td>\n",
       "      <td>10</td>\n",
       "      <td>24.98298</td>\n",
       "      <td>121.54024</td>\n",
       "      <td>37.9</td>\n",
       "    </tr>\n",
       "    <tr>\n",
       "      <th>2</th>\n",
       "      <td>2012.917</td>\n",
       "      <td>19.5</td>\n",
       "      <td>306.59470</td>\n",
       "      <td>9</td>\n",
       "      <td>24.98034</td>\n",
       "      <td>121.53951</td>\n",
       "      <td>42.2</td>\n",
       "    </tr>\n",
       "    <tr>\n",
       "      <th>3</th>\n",
       "      <td>2013.583</td>\n",
       "      <td>13.3</td>\n",
       "      <td>561.98450</td>\n",
       "      <td>5</td>\n",
       "      <td>24.98746</td>\n",
       "      <td>121.54391</td>\n",
       "      <td>47.3</td>\n",
       "    </tr>\n",
       "    <tr>\n",
       "      <th>4</th>\n",
       "      <td>2013.500</td>\n",
       "      <td>13.3</td>\n",
       "      <td>561.98450</td>\n",
       "      <td>5</td>\n",
       "      <td>24.98746</td>\n",
       "      <td>121.54391</td>\n",
       "      <td>54.8</td>\n",
       "    </tr>\n",
       "    <tr>\n",
       "      <th>5</th>\n",
       "      <td>2012.833</td>\n",
       "      <td>5.0</td>\n",
       "      <td>390.56840</td>\n",
       "      <td>5</td>\n",
       "      <td>24.97937</td>\n",
       "      <td>121.54245</td>\n",
       "      <td>43.1</td>\n",
       "    </tr>\n",
       "  </tbody>\n",
       "</table>\n",
       "</div>"
      ],
      "text/plain": [
       "        date   age  nearest MRT station  convenience stores  latitude  \\\n",
       "No                                                                      \n",
       "1   2012.917  32.0             84.87882                  10  24.98298   \n",
       "2   2012.917  19.5            306.59470                   9  24.98034   \n",
       "3   2013.583  13.3            561.98450                   5  24.98746   \n",
       "4   2013.500  13.3            561.98450                   5  24.98746   \n",
       "5   2012.833   5.0            390.56840                   5  24.97937   \n",
       "\n",
       "    longitude  price per unit area  \n",
       "No                                  \n",
       "1   121.54024                 37.9  \n",
       "2   121.53951                 42.2  \n",
       "3   121.54391                 47.3  \n",
       "4   121.54391                 54.8  \n",
       "5   121.54245                 43.1  "
      ]
     },
     "execution_count": 3,
     "metadata": {},
     "output_type": "execute_result"
    }
   ],
   "source": [
    "data = pd.read_csv('Real estate valuation data set.csv').set_index('No')\n",
    "data.head()"
   ]
  },
  {
   "cell_type": "markdown",
   "metadata": {},
   "source": [
    "Once you have selected a data set, you will produce the deliverables listed below and submit them to one of your peers for review. Treat this exercise as an opportunity to produce analysis that are ready to highlight your analytical skills for a senior audience, for example, the Chief Data Officer, or the Head of Analytics at your company.\n",
    "Sections required in your report:\n",
    "\n",
    "*   Main objective of the analysis that specifies whether your model will be focused on prediction or interpretation.\n",
    "*   Brief description of the data set you chose and a summary of its attributes.\n",
    "*   Brief summary of data exploration and actions taken for data cleaning and feature engineering.\n",
    "*   Summary of training at least three linear regression models which should be variations that cover using a simple  linear regression as a baseline, adding polynomial effects, and using a regularization regression. Preferably, all use the same training and test splits, or the same cross-validation method.\n",
    "*   A paragraph explaining which of your regressions you recommend as a final model that best fits your needs in terms of accuracy and explainability.\n",
    "*   Summary Key Findings and Insights, which walks your reader through the main drivers of your model and insights from your data derived from your linear regression model.\n",
    "*   Suggestions for next steps in analyzing this data, which may include suggesting revisiting this model adding specific data features to achieve a better explanation or a better prediction.\n"
   ]
  },
  {
   "cell_type": "markdown",
   "metadata": {},
   "source": [
    "# 1. About the Data\n"
   ]
  },
  {
   "cell_type": "markdown",
   "metadata": {},
   "source": [
    "\n",
    "The data is market data of real estate valuation of houses as collected from Sindian Dist., New Taipei City, Taiwan by Prof. I-Cheng Yeh and availed on the [UCI Machine Learning Repository](https://archive.ics.uci.edu/ml/datasets/Real+estate+valuation+data+set#)\n",
    "\n",
    "The Features in the data are described in the table below\n",
    "\n",
    "| Feature | Description |\n",
    "|---|---|\n",
    "|date| the year and month of valuation (for example, 2013.250=2013 March, 2013.500=2013 June, etc.)|\n",
    "|age|the house age in years|\n",
    "|nearest MRT station|the distance to the nearest Metro Rail Transit (MRT) station (unit: meter)|\n",
    "|convenience stores|the number of convenience stores close the house (integer)|\n",
    "|latitude|the geographic coordinate, latitude. (unit: degree)|\n",
    "|longitude|the geographic coordinate, longitude. (unit: degree)|\n",
    "|price per unit area|the price of a unit area of the house (10,000 New Taiwan Dollars per Ping, where Ping is a local unit equal to 3.3 meter squared)|\n",
    "\n",
    "\n"
   ]
  },
  {
   "cell_type": "markdown",
   "metadata": {},
   "source": [
    "# 2. Objectives\n"
   ]
  },
  {
   "cell_type": "markdown",
   "metadata": {},
   "source": [
    "Our target feature is the price per unit area.  \n",
    "From the data provided, Our main objective is to select the best model to predict future house prices and while identifying the most important features for house valuation in Taiwan.  \n",
    "The goals leading towards this objective are:\n",
    "- To inspect the data so as to identify any outliers, additional information or misrepresented data types.\n",
    "- To clean the data and remove any underlying issues so as to ensure  the data is ready for exploration\n",
    "- To split the data into a train set and test set\n",
    "- To briefly explore the distribution of the features and check for multi-collinearitty.\n",
    "- To identify the feature matrix for model building\n",
    "- To build the baseline linear regression model and get the base mean absolute error and r-squared score on the train set.\n",
    "- To build advanced models by incorporating polynomial features and regularization using ridge and lasso, and evaluating their performance using mean_absolute error and r-squared on train set \n",
    "\n",
    "- To evaluate all models' out of sample performance using the test set\n",
    "- To describe the model's performance using charts, scores, and ease of getting feature importance\n",
    "\n",
    "Our baseline model will be the basic linear regression.  \n",
    "We will then analyze Ridge, Lasso, Polynomial Regression to identify the best model.\n",
    "Grid Search will be utilized to select best hyper parameters for each model."
   ]
  },
  {
   "cell_type": "markdown",
   "metadata": {},
   "source": [
    "## Inspecting Data"
   ]
  },
  {
   "cell_type": "code",
   "execution_count": 4,
   "metadata": {},
   "outputs": [
    {
     "name": "stdout",
     "output_type": "stream",
     "text": [
      "Our data has 7 features and 414 observations\n"
     ]
    }
   ],
   "source": [
    "shape = data.shape\n",
    "print(f'Our data has {shape[1]} features and {shape[0]} observations')"
   ]
  },
  {
   "cell_type": "code",
   "execution_count": 5,
   "metadata": {},
   "outputs": [
    {
     "name": "stdout",
     "output_type": "stream",
     "text": [
      "<class 'pandas.core.frame.DataFrame'>\n",
      "Int64Index: 414 entries, 1 to 414\n",
      "Data columns (total 7 columns):\n",
      " #   Column               Non-Null Count  Dtype  \n",
      "---  ------               --------------  -----  \n",
      " 0   date                 414 non-null    float64\n",
      " 1   age                  414 non-null    float64\n",
      " 2   nearest MRT station  414 non-null    float64\n",
      " 3   convenience stores   414 non-null    int64  \n",
      " 4   latitude             414 non-null    float64\n",
      " 5   longitude            414 non-null    float64\n",
      " 6   price per unit area  414 non-null    float64\n",
      "dtypes: float64(6), int64(1)\n",
      "memory usage: 25.9 KB\n",
      "None\n"
     ]
    },
    {
     "data": {
      "text/html": [
       "<div>\n",
       "<style scoped>\n",
       "    .dataframe tbody tr th:only-of-type {\n",
       "        vertical-align: middle;\n",
       "    }\n",
       "\n",
       "    .dataframe tbody tr th {\n",
       "        vertical-align: top;\n",
       "    }\n",
       "\n",
       "    .dataframe thead th {\n",
       "        text-align: right;\n",
       "    }\n",
       "</style>\n",
       "<table border=\"1\" class=\"dataframe\">\n",
       "  <thead>\n",
       "    <tr style=\"text-align: right;\">\n",
       "      <th></th>\n",
       "      <th>date</th>\n",
       "      <th>age</th>\n",
       "      <th>nearest MRT station</th>\n",
       "      <th>convenience stores</th>\n",
       "      <th>latitude</th>\n",
       "      <th>longitude</th>\n",
       "      <th>price per unit area</th>\n",
       "    </tr>\n",
       "    <tr>\n",
       "      <th>No</th>\n",
       "      <th></th>\n",
       "      <th></th>\n",
       "      <th></th>\n",
       "      <th></th>\n",
       "      <th></th>\n",
       "      <th></th>\n",
       "      <th></th>\n",
       "    </tr>\n",
       "  </thead>\n",
       "  <tbody>\n",
       "    <tr>\n",
       "      <th>1</th>\n",
       "      <td>2012.917</td>\n",
       "      <td>32.0</td>\n",
       "      <td>84.87882</td>\n",
       "      <td>10</td>\n",
       "      <td>24.98298</td>\n",
       "      <td>121.54024</td>\n",
       "      <td>37.9</td>\n",
       "    </tr>\n",
       "    <tr>\n",
       "      <th>2</th>\n",
       "      <td>2012.917</td>\n",
       "      <td>19.5</td>\n",
       "      <td>306.59470</td>\n",
       "      <td>9</td>\n",
       "      <td>24.98034</td>\n",
       "      <td>121.53951</td>\n",
       "      <td>42.2</td>\n",
       "    </tr>\n",
       "    <tr>\n",
       "      <th>3</th>\n",
       "      <td>2013.583</td>\n",
       "      <td>13.3</td>\n",
       "      <td>561.98450</td>\n",
       "      <td>5</td>\n",
       "      <td>24.98746</td>\n",
       "      <td>121.54391</td>\n",
       "      <td>47.3</td>\n",
       "    </tr>\n",
       "    <tr>\n",
       "      <th>4</th>\n",
       "      <td>2013.500</td>\n",
       "      <td>13.3</td>\n",
       "      <td>561.98450</td>\n",
       "      <td>5</td>\n",
       "      <td>24.98746</td>\n",
       "      <td>121.54391</td>\n",
       "      <td>54.8</td>\n",
       "    </tr>\n",
       "    <tr>\n",
       "      <th>5</th>\n",
       "      <td>2012.833</td>\n",
       "      <td>5.0</td>\n",
       "      <td>390.56840</td>\n",
       "      <td>5</td>\n",
       "      <td>24.97937</td>\n",
       "      <td>121.54245</td>\n",
       "      <td>43.1</td>\n",
       "    </tr>\n",
       "  </tbody>\n",
       "</table>\n",
       "</div>"
      ],
      "text/plain": [
       "        date   age  nearest MRT station  convenience stores  latitude  \\\n",
       "No                                                                      \n",
       "1   2012.917  32.0             84.87882                  10  24.98298   \n",
       "2   2012.917  19.5            306.59470                   9  24.98034   \n",
       "3   2013.583  13.3            561.98450                   5  24.98746   \n",
       "4   2013.500  13.3            561.98450                   5  24.98746   \n",
       "5   2012.833   5.0            390.56840                   5  24.97937   \n",
       "\n",
       "    longitude  price per unit area  \n",
       "No                                  \n",
       "1   121.54024                 37.9  \n",
       "2   121.53951                 42.2  \n",
       "3   121.54391                 47.3  \n",
       "4   121.54391                 54.8  \n",
       "5   121.54245                 43.1  "
      ]
     },
     "execution_count": 5,
     "metadata": {},
     "output_type": "execute_result"
    }
   ],
   "source": [
    "print(data.info())\n",
    "data.head()"
   ]
  },
  {
   "cell_type": "markdown",
   "metadata": {},
   "source": [
    "- All our features are numeric\n",
    "- The data has no missing values\n",
    "- The date column includes data on the month of valuation in form of decimal positions\n"
   ]
  },
  {
   "cell_type": "markdown",
   "metadata": {},
   "source": [
    "## Data Cleaning"
   ]
  },
  {
   "cell_type": "markdown",
   "metadata": {},
   "source": [
    "**Data Cleaning Requirements**  \n",
    "- The date column should be of type integer(int64), but is float type (float64) due to the additional month information, hence:\n",
    "    - New column for month is required to extract that month information in the date column\n",
    "    - Type conversion of the date to integer(int64) is required after extracting month data\n",
    "    - Renaming of date column to year is necessary as the data in the column is year of valuation\n",
    "- Outliers in our target may influence our model. Thus, we will drop columns with possible outlying target feature values. This will be done by ensuring there is no value greater than one and a half times the interquartile range, in range from the 25<sup>th</sup> percentile.\n",
    "\n",
    "The data cleaning will all be done using the function `clean_data()`, that will take in our messy data and return clean data."
   ]
  },
  {
   "cell_type": "code",
   "execution_count": 6,
   "metadata": {},
   "outputs": [],
   "source": [
    "def clean_data(df: object):\n",
    "    \n",
    "    # Create month column\n",
    "    df['month'] = ((df['date'] % 1) * 12).round().astype(int).replace(0,12)\n",
    "    \n",
    "    # Convert date to integer\n",
    "    df['date'] = df['date'].astype(int)\n",
    "    \n",
    "    # Rename date as year\n",
    "    df.rename(columns= {'date': 'year'}, inplace = True)\n",
    "    \n",
    "    # Removing outliers in our target feature\n",
    "    target = 'price per unit area'\n",
    "    lower_quartile, upper_quartile = np.quantile(df[target], [0.25,0.75])\n",
    "    interquartile_range = upper_quartile - lower_quartile\n",
    "    upper_cutoff = lower_quartile + (1.5 * interquartile_range)\n",
    "    df = df[df[target] < upper_cutoff]\n",
    "    \n",
    "    return df\n",
    "    "
   ]
  },
  {
   "cell_type": "markdown",
   "metadata": {},
   "source": [
    "Let us now clean our data"
   ]
  },
  {
   "cell_type": "code",
   "execution_count": 7,
   "metadata": {},
   "outputs": [
    {
     "data": {
      "text/html": [
       "<div>\n",
       "<style scoped>\n",
       "    .dataframe tbody tr th:only-of-type {\n",
       "        vertical-align: middle;\n",
       "    }\n",
       "\n",
       "    .dataframe tbody tr th {\n",
       "        vertical-align: top;\n",
       "    }\n",
       "\n",
       "    .dataframe thead th {\n",
       "        text-align: right;\n",
       "    }\n",
       "</style>\n",
       "<table border=\"1\" class=\"dataframe\">\n",
       "  <thead>\n",
       "    <tr style=\"text-align: right;\">\n",
       "      <th></th>\n",
       "      <th>year</th>\n",
       "      <th>age</th>\n",
       "      <th>nearest MRT station</th>\n",
       "      <th>convenience stores</th>\n",
       "      <th>latitude</th>\n",
       "      <th>longitude</th>\n",
       "      <th>price per unit area</th>\n",
       "      <th>month</th>\n",
       "    </tr>\n",
       "    <tr>\n",
       "      <th>No</th>\n",
       "      <th></th>\n",
       "      <th></th>\n",
       "      <th></th>\n",
       "      <th></th>\n",
       "      <th></th>\n",
       "      <th></th>\n",
       "      <th></th>\n",
       "      <th></th>\n",
       "    </tr>\n",
       "  </thead>\n",
       "  <tbody>\n",
       "    <tr>\n",
       "      <th>1</th>\n",
       "      <td>2012</td>\n",
       "      <td>32.0</td>\n",
       "      <td>84.87882</td>\n",
       "      <td>10</td>\n",
       "      <td>24.98298</td>\n",
       "      <td>121.54024</td>\n",
       "      <td>37.9</td>\n",
       "      <td>11</td>\n",
       "    </tr>\n",
       "    <tr>\n",
       "      <th>2</th>\n",
       "      <td>2012</td>\n",
       "      <td>19.5</td>\n",
       "      <td>306.59470</td>\n",
       "      <td>9</td>\n",
       "      <td>24.98034</td>\n",
       "      <td>121.53951</td>\n",
       "      <td>42.2</td>\n",
       "      <td>11</td>\n",
       "    </tr>\n",
       "    <tr>\n",
       "      <th>3</th>\n",
       "      <td>2013</td>\n",
       "      <td>13.3</td>\n",
       "      <td>561.98450</td>\n",
       "      <td>5</td>\n",
       "      <td>24.98746</td>\n",
       "      <td>121.54391</td>\n",
       "      <td>47.3</td>\n",
       "      <td>7</td>\n",
       "    </tr>\n",
       "    <tr>\n",
       "      <th>4</th>\n",
       "      <td>2013</td>\n",
       "      <td>13.3</td>\n",
       "      <td>561.98450</td>\n",
       "      <td>5</td>\n",
       "      <td>24.98746</td>\n",
       "      <td>121.54391</td>\n",
       "      <td>54.8</td>\n",
       "      <td>6</td>\n",
       "    </tr>\n",
       "    <tr>\n",
       "      <th>5</th>\n",
       "      <td>2012</td>\n",
       "      <td>5.0</td>\n",
       "      <td>390.56840</td>\n",
       "      <td>5</td>\n",
       "      <td>24.97937</td>\n",
       "      <td>121.54245</td>\n",
       "      <td>43.1</td>\n",
       "      <td>10</td>\n",
       "    </tr>\n",
       "  </tbody>\n",
       "</table>\n",
       "</div>"
      ],
      "text/plain": [
       "    year   age  nearest MRT station  convenience stores  latitude  longitude  \\\n",
       "No                                                                             \n",
       "1   2012  32.0             84.87882                  10  24.98298  121.54024   \n",
       "2   2012  19.5            306.59470                   9  24.98034  121.53951   \n",
       "3   2013  13.3            561.98450                   5  24.98746  121.54391   \n",
       "4   2013  13.3            561.98450                   5  24.98746  121.54391   \n",
       "5   2012   5.0            390.56840                   5  24.97937  121.54245   \n",
       "\n",
       "    price per unit area  month  \n",
       "No                              \n",
       "1                  37.9     11  \n",
       "2                  42.2     11  \n",
       "3                  47.3      7  \n",
       "4                  54.8      6  \n",
       "5                  43.1     10  "
      ]
     },
     "execution_count": 7,
     "metadata": {},
     "output_type": "execute_result"
    }
   ],
   "source": [
    "data = clean_data(data)\n",
    "data.head()"
   ]
  },
  {
   "cell_type": "code",
   "execution_count": 8,
   "metadata": {},
   "outputs": [
    {
     "name": "stdout",
     "output_type": "stream",
     "text": [
      "<class 'pandas.core.frame.DataFrame'>\n",
      "Int64Index: 381 entries, 1 to 413\n",
      "Data columns (total 8 columns):\n",
      " #   Column               Non-Null Count  Dtype  \n",
      "---  ------               --------------  -----  \n",
      " 0   year                 381 non-null    int64  \n",
      " 1   age                  381 non-null    float64\n",
      " 2   nearest MRT station  381 non-null    float64\n",
      " 3   convenience stores   381 non-null    int64  \n",
      " 4   latitude             381 non-null    float64\n",
      " 5   longitude            381 non-null    float64\n",
      " 6   price per unit area  381 non-null    float64\n",
      " 7   month                381 non-null    int64  \n",
      "dtypes: float64(5), int64(3)\n",
      "memory usage: 26.8 KB\n"
     ]
    }
   ],
   "source": [
    "data.info()"
   ]
  },
  {
   "cell_type": "markdown",
   "metadata": {
    "tags": []
   },
   "source": [
    "### Train-Test Split"
   ]
  },
  {
   "cell_type": "markdown",
   "metadata": {},
   "source": [
    "We split our data into a test set and a train set before exploration to prevent any bias in our modelling."
   ]
  },
  {
   "cell_type": "code",
   "execution_count": 9,
   "metadata": {},
   "outputs": [],
   "source": [
    "train_data, test_data = train_test_split(data, test_size = 0.2, random_state = 4)"
   ]
  },
  {
   "cell_type": "code",
   "execution_count": 10,
   "metadata": {},
   "outputs": [
    {
     "name": "stdout",
     "output_type": "stream",
     "text": [
      "Shape of train_data: (304, 8)\n",
      "Shape of test_data: (77, 8)\n",
      "\n"
     ]
    }
   ],
   "source": [
    "shapes = (f\"Shape of train_data: {train_data.shape}\\n\"\n",
    "          f\"Shape of test_data: {test_data.shape}\\n\"\n",
    "          )\n",
    "print(shapes)"
   ]
  },
  {
   "cell_type": "markdown",
   "metadata": {},
   "source": [
    "## Data Exploration"
   ]
  },
  {
   "cell_type": "markdown",
   "metadata": {},
   "source": [
    "For Exploration, we will check the statistical summary and basic distributions of our features"
   ]
  },
  {
   "cell_type": "code",
   "execution_count": 11,
   "metadata": {},
   "outputs": [
    {
     "data": {
      "text/html": [
       "<div>\n",
       "<style scoped>\n",
       "    .dataframe tbody tr th:only-of-type {\n",
       "        vertical-align: middle;\n",
       "    }\n",
       "\n",
       "    .dataframe tbody tr th {\n",
       "        vertical-align: top;\n",
       "    }\n",
       "\n",
       "    .dataframe thead th {\n",
       "        text-align: right;\n",
       "    }\n",
       "</style>\n",
       "<table border=\"1\" class=\"dataframe\">\n",
       "  <thead>\n",
       "    <tr style=\"text-align: right;\">\n",
       "      <th></th>\n",
       "      <th>year</th>\n",
       "      <th>age</th>\n",
       "      <th>nearest MRT station</th>\n",
       "      <th>convenience stores</th>\n",
       "      <th>latitude</th>\n",
       "      <th>longitude</th>\n",
       "      <th>price per unit area</th>\n",
       "      <th>month</th>\n",
       "    </tr>\n",
       "  </thead>\n",
       "  <tbody>\n",
       "    <tr>\n",
       "      <th>count</th>\n",
       "      <td>304.000000</td>\n",
       "      <td>304.000000</td>\n",
       "      <td>304.000000</td>\n",
       "      <td>304.000000</td>\n",
       "      <td>304.000000</td>\n",
       "      <td>304.000000</td>\n",
       "      <td>304.000000</td>\n",
       "      <td>304.000000</td>\n",
       "    </tr>\n",
       "    <tr>\n",
       "      <th>mean</th>\n",
       "      <td>2012.694079</td>\n",
       "      <td>18.321053</td>\n",
       "      <td>1168.852675</td>\n",
       "      <td>3.891447</td>\n",
       "      <td>24.968331</td>\n",
       "      <td>121.532760</td>\n",
       "      <td>35.506908</td>\n",
       "      <td>6.342105</td>\n",
       "    </tr>\n",
       "    <tr>\n",
       "      <th>std</th>\n",
       "      <td>0.461556</td>\n",
       "      <td>10.990858</td>\n",
       "      <td>1298.649252</td>\n",
       "      <td>2.884703</td>\n",
       "      <td>0.012872</td>\n",
       "      <td>0.015839</td>\n",
       "      <td>11.208989</td>\n",
       "      <td>3.436564</td>\n",
       "    </tr>\n",
       "    <tr>\n",
       "      <th>min</th>\n",
       "      <td>2012.000000</td>\n",
       "      <td>0.000000</td>\n",
       "      <td>23.382840</td>\n",
       "      <td>0.000000</td>\n",
       "      <td>24.932070</td>\n",
       "      <td>121.475160</td>\n",
       "      <td>7.600000</td>\n",
       "      <td>1.000000</td>\n",
       "    </tr>\n",
       "    <tr>\n",
       "      <th>25%</th>\n",
       "      <td>2012.000000</td>\n",
       "      <td>11.975000</td>\n",
       "      <td>323.682150</td>\n",
       "      <td>1.000000</td>\n",
       "      <td>24.962038</td>\n",
       "      <td>121.518370</td>\n",
       "      <td>26.500000</td>\n",
       "      <td>4.000000</td>\n",
       "    </tr>\n",
       "    <tr>\n",
       "      <th>50%</th>\n",
       "      <td>2013.000000</td>\n",
       "      <td>16.200000</td>\n",
       "      <td>531.626650</td>\n",
       "      <td>4.000000</td>\n",
       "      <td>24.969130</td>\n",
       "      <td>121.538430</td>\n",
       "      <td>37.000000</td>\n",
       "      <td>6.000000</td>\n",
       "    </tr>\n",
       "    <tr>\n",
       "      <th>75%</th>\n",
       "      <td>2013.000000</td>\n",
       "      <td>29.150000</td>\n",
       "      <td>1712.632000</td>\n",
       "      <td>6.000000</td>\n",
       "      <td>24.978388</td>\n",
       "      <td>121.543222</td>\n",
       "      <td>44.050000</td>\n",
       "      <td>9.000000</td>\n",
       "    </tr>\n",
       "    <tr>\n",
       "      <th>max</th>\n",
       "      <td>2013.000000</td>\n",
       "      <td>42.700000</td>\n",
       "      <td>6396.283000</td>\n",
       "      <td>10.000000</td>\n",
       "      <td>25.014590</td>\n",
       "      <td>121.566270</td>\n",
       "      <td>55.900000</td>\n",
       "      <td>12.000000</td>\n",
       "    </tr>\n",
       "  </tbody>\n",
       "</table>\n",
       "</div>"
      ],
      "text/plain": [
       "              year         age  nearest MRT station  convenience stores  \\\n",
       "count   304.000000  304.000000           304.000000          304.000000   \n",
       "mean   2012.694079   18.321053          1168.852675            3.891447   \n",
       "std       0.461556   10.990858          1298.649252            2.884703   \n",
       "min    2012.000000    0.000000            23.382840            0.000000   \n",
       "25%    2012.000000   11.975000           323.682150            1.000000   \n",
       "50%    2013.000000   16.200000           531.626650            4.000000   \n",
       "75%    2013.000000   29.150000          1712.632000            6.000000   \n",
       "max    2013.000000   42.700000          6396.283000           10.000000   \n",
       "\n",
       "         latitude   longitude  price per unit area       month  \n",
       "count  304.000000  304.000000           304.000000  304.000000  \n",
       "mean    24.968331  121.532760            35.506908    6.342105  \n",
       "std      0.012872    0.015839            11.208989    3.436564  \n",
       "min     24.932070  121.475160             7.600000    1.000000  \n",
       "25%     24.962038  121.518370            26.500000    4.000000  \n",
       "50%     24.969130  121.538430            37.000000    6.000000  \n",
       "75%     24.978388  121.543222            44.050000    9.000000  \n",
       "max     25.014590  121.566270            55.900000   12.000000  "
      ]
     },
     "execution_count": 11,
     "metadata": {},
     "output_type": "execute_result"
    }
   ],
   "source": [
    "train_data.describe()"
   ]
  },
  {
   "cell_type": "markdown",
   "metadata": {},
   "source": [
    "We will use seaborn's whitegrid style for our graphs"
   ]
  },
  {
   "cell_type": "code",
   "execution_count": 12,
   "metadata": {},
   "outputs": [],
   "source": [
    "sns.set(style='whitegrid')"
   ]
  },
  {
   "cell_type": "markdown",
   "metadata": {},
   "source": [
    "### Distribution of features "
   ]
  },
  {
   "cell_type": "code",
   "execution_count": 13,
   "metadata": {},
   "outputs": [
    {
     "data": {
      "image/png": "[encoded data removed]",
      "text/plain": [
       "<Figure size 864x864 with 9 Axes>"
      ]
     },
     "metadata": {
      "needs_background": "light"
     },
     "output_type": "display_data"
    }
   ],
   "source": [
    "fig, ax = plt.subplots(figsize=(12,12))\n",
    "train_data.hist(ax=ax)\n",
    "plt.tight_layout()\n",
    "plt.show()"
   ]
  },
  {
   "cell_type": "markdown",
   "metadata": {},
   "source": [
    "- The year column is a categorical variable. It has two categories, 2012 and 2013.This means that the valuation of these houses happened in 2012 and 2013.\n",
    "    - Year is a low cardinality feature but is considered based on the additional infomation it may carry when combined with the month feature. (for interpretation)\n",
    "- Most houses are located at most 2000 meters(2 Kilometers) away from an MRT station.\n",
    "- The most common price region per unit area is between 200,000 and 500,000 Taiwanese Dollars"
   ]
  },
  {
   "cell_type": "markdown",
   "metadata": {},
   "source": [
    "## Data Preprocessing For Model\n"
   ]
  },
  {
   "cell_type": "markdown",
   "metadata": {
    "tags": []
   },
   "source": [
    "### Feature Selection "
   ]
  },
  {
   "cell_type": "markdown",
   "metadata": {},
   "source": [
    "price per unit area is our target feature"
   ]
  },
  {
   "cell_type": "code",
   "execution_count": 14,
   "metadata": {},
   "outputs": [],
   "source": [
    "target = 'price per unit area'\n",
    "y_train = train_data[target]\n",
    "y_test = test_data[target]"
   ]
  },
  {
   "cell_type": "markdown",
   "metadata": {},
   "source": [
    "All other columns but price per unit area are part of the feature matrix.  "
   ]
  },
  {
   "cell_type": "code",
   "execution_count": 15,
   "metadata": {},
   "outputs": [
    {
     "data": {
      "text/plain": [
       "['year',\n",
       " 'age',\n",
       " 'nearest MRT station',\n",
       " 'convenience stores',\n",
       " 'latitude',\n",
       " 'longitude',\n",
       " 'month']"
      ]
     },
     "execution_count": 15,
     "metadata": {},
     "output_type": "execute_result"
    }
   ],
   "source": [
    "Features = []\n",
    "for column in data.columns:\n",
    "    if column != target:\n",
    "        Features.append(column)\n",
    "        \n",
    "Features"
   ]
  },
  {
   "cell_type": "code",
   "execution_count": 16,
   "metadata": {},
   "outputs": [],
   "source": [
    "X_train = train_data[Features]\n",
    "X_test = test_data[Features]"
   ]
  },
  {
   "cell_type": "markdown",
   "metadata": {},
   "source": [
    "### Defining Cross Validation Split using KFold"
   ]
  },
  {
   "cell_type": "markdown",
   "metadata": {},
   "source": [
    "To ensure the cross validation is uniform across all models, we will use KFold to produce the uniform cross validation selection. "
   ]
  },
  {
   "cell_type": "code",
   "execution_count": 17,
   "metadata": {
    "tags": []
   },
   "outputs": [],
   "source": [
    "kf = KFold(n_splits = 3, shuffle = True, random_state = 42)"
   ]
  },
  {
   "cell_type": "code",
   "execution_count": 18,
   "metadata": {
    "jupyter": {
     "source_hidden": true
    },
    "tags": []
   },
   "outputs": [],
   "source": [
    "def visualize(actual, predicted, dataframe = None):\n",
    "    \"\"\"Make regression and residual plots of the data\n",
    "    \n",
    "    Arguments:\n",
    "        actual: pd.Series/np.array -> array of actual values\n",
    "        predicted: pd.Series/np.array -> array of predicted values\n",
    "        Optional argument:\n",
    "            dataframe: Options are 'train', 'test', None. Default is None \n",
    "                       state the type of dataframe\n",
    "    Returns:\n",
    "        plot_1 -> Regression plot\n",
    "        plot_2 -> Residual plot\n",
    "    \"\"\"\n",
    "    # Matplotlib use style 'Solarized light'\n",
    "    mpl.style.use(\"seaborn-dark\")\n",
    "    mpl.style.use('tableau-colorblind10')\n",
    "    # Create figure and axes\n",
    "    fig, axes = plt.subplots(2,figsize=(15,12))\n",
    "    \n",
    "    ax1,ax2 = axes\n",
    "    # Create Regression plot\n",
    "    ax1.scatter(actual, predicted, edgecolors=(0, 0, 0))\n",
    "    ax1.plot([actual.min(), actual.max()], \n",
    "            [actual.min(), actual.max()], \n",
    "            \"k--\", lw=4,\n",
    "            label = 'Regression Line'\n",
    "           )\n",
    "\n",
    "    ax1.set_xlabel(\"Actual Values\")\n",
    "    ax1.set_ylabel(\"Predicted Values\")\n",
    "    ax1.set_title(\"Predicted Values vs Actual Values for Training set\")\n",
    "    plt.legend()\n",
    "    plot_1 = ax1\n",
    "\n",
    "    # Create Residual plot\n",
    "    sns.residplot(x = actual, \n",
    "                  y = predicted, \n",
    "                  color = 'green', ax=ax2,\n",
    "                  lowess=True, line_kws=dict(color=\"r\")\n",
    "                 )\n",
    "    ax2.set_xlabel(\"Actual Values\")\n",
    "    ax2.set_ylabel(\"Predicted Values\")\n",
    "    ax2.set_title(\"Residuals for Predicted Values vs Actual Values for Training set\")\n",
    "\n",
    "    plt.tight_layout()\n",
    "    plot_2 = ax2\n",
    "    \n",
    "    return plot_1, plot_2"
   ]
  },
  {
   "cell_type": "markdown",
   "metadata": {},
   "source": [
    "# 3. Linear Regression Models"
   ]
  },
  {
   "cell_type": "markdown",
   "metadata": {},
   "source": [
    "## Training"
   ]
  },
  {
   "cell_type": "markdown",
   "metadata": {},
   "source": [
    "### Baseline - Simple Linear Regression"
   ]
  },
  {
   "cell_type": "markdown",
   "metadata": {},
   "source": [
    "Our baseline model is the Simple Linear Regression Model. \n",
    "This will help select the model that best improves upon performance from this baseline."
   ]
  },
  {
   "cell_type": "code",
   "execution_count": 19,
   "metadata": {},
   "outputs": [
    {
     "name": "stdout",
     "output_type": "stream",
     "text": [
      "The baseline Mean Absolute Error on Train Set is 4.9008\n"
     ]
    }
   ],
   "source": [
    "steps = [\n",
    "    ('scaler', StandardScaler()),\n",
    "    ('model', LinearRegression())\n",
    "]\n",
    "lr_model = Pipeline(steps)\n",
    "y_pred_baseline =  cross_val_predict(lr_model, X_train, y_train, cv = kf)\n",
    "lr_score = mean_absolute_error(y_pred_baseline, y_train).round(4)\n",
    "print(f'The baseline Mean Absolute Error on Train Set is {lr_score}')"
   ]
  },
  {
   "cell_type": "markdown",
   "metadata": {
    "tags": []
   },
   "source": [
    "### Linear regression with Polynomial Features"
   ]
  },
  {
   "cell_type": "markdown",
   "metadata": {},
   "source": [
    "Linear Regression with Polynomial order of **3**"
   ]
  },
  {
   "cell_type": "code",
   "execution_count": 20,
   "metadata": {},
   "outputs": [
    {
     "name": "stdout",
     "output_type": "stream",
     "text": [
      "The baseline Mean Absolute Error on Train Set is 4.9008\n"
     ]
    }
   ],
   "source": [
    "steps = [\n",
    "    ('scaler', StandardScaler()),\n",
    "    ('poly', PolynomialFeatures(degree = 3)),\n",
    "    ('ridge', LinearRegression())\n",
    "]\n",
    "lr_poly = Pipeline(steps)\n",
    "y_pred_polyLR =  cross_val_predict(lr_poly, X_train, y_train, cv = kf)\n",
    "lr_poly_score = mean_absolute_error(y_pred_baseline, y_train).round(4)\n",
    "print(f'The baseline Mean Absolute Error on Train Set is {lr_poly_score}')"
   ]
  },
  {
   "cell_type": "markdown",
   "metadata": {
    "tags": []
   },
   "source": [
    "### Ridge with Polynomial Features"
   ]
  },
  {
   "cell_type": "markdown",
   "metadata": {},
   "source": [
    "Ridge Regression with Polynomial order of **3**"
   ]
  },
  {
   "cell_type": "code",
   "execution_count": 21,
   "metadata": {},
   "outputs": [
    {
     "name": "stdout",
     "output_type": "stream",
     "text": [
      "Ridge Mean Absolute Error on Train Set is 3.1794\n"
     ]
    }
   ],
   "source": [
    "steps = [\n",
    "    ('scaler', StandardScaler()),\n",
    "    ('poly', PolynomialFeatures(degree = 3)),\n",
    "    ('ridge', Ridge())\n",
    "]\n",
    "ridge_model = Pipeline(steps)\n",
    "\n",
    "params = {\n",
    "    'ridge__solver': ['auto', 'sag', 'saga', 'lsqr'],\n",
    "    'ridge__alpha' : np.logspace(-20, -2, 40)\n",
    "}\n",
    "grid_ridge = GridSearchCV(ridge_model, params, cv = kf).fit(X_train, y_train)\n",
    "y_pred_ridge = grid_ridge.predict(X_train)\n",
    "ridge_score = mean_absolute_error(y_pred_ridge, y_train).round(4)\n",
    "print(f'Ridge Mean Absolute Error on Train Set is {ridge_score}')"
   ]
  },
  {
   "cell_type": "markdown",
   "metadata": {},
   "source": [
    "### Lasso with Polynomial Features"
   ]
  },
  {
   "cell_type": "markdown",
   "metadata": {},
   "source": [
    "Lasso Regression with Polynomial order of **3**"
   ]
  },
  {
   "cell_type": "code",
   "execution_count": 22,
   "metadata": {},
   "outputs": [
    {
     "name": "stdout",
     "output_type": "stream",
     "text": [
      "LASSO Mean Absolute Error on Train Set is 3.3989\n"
     ]
    }
   ],
   "source": [
    "steps = [\n",
    "    ('scaler', StandardScaler()),\n",
    "    ('poly', PolynomialFeatures(degree = 3)),\n",
    "    ('lasso', Lasso())\n",
    "]\n",
    "lasso_model = Pipeline(steps)\n",
    "\n",
    "params = {\n",
    "    'lasso__alpha' : np.arange(0.01, 1, 0.1)\n",
    "}\n",
    "grid_lasso = GridSearchCV(lasso_model, params, cv = kf).fit(X_train, y_train)\n",
    "y_pred_lasso = grid_lasso.predict(X_train)\n",
    "lasso_score = mean_absolute_error(y_pred_lasso, y_train).round(4)\n",
    "print(f'LASSO Mean Absolute Error on Train Set is {lasso_score}')"
   ]
  },
  {
   "cell_type": "markdown",
   "metadata": {},
   "source": [
    "### The models' performance on Train Set"
   ]
  },
  {
   "cell_type": "code",
   "execution_count": 23,
   "metadata": {},
   "outputs": [
    {
     "data": {
      "text/plain": [
       "Model                           MAE Score\n",
       "Baseline Linear Regression         4.9008\n",
       "Polynomial Linear Regression       4.9008\n",
       "Ridge Regression                   3.1794\n",
       "Lasso Regression                   3.3989\n",
       "dtype: object"
      ]
     },
     "execution_count": 23,
     "metadata": {},
     "output_type": "execute_result"
    }
   ],
   "source": [
    "train_performance = pd.Series({\n",
    "    \"Model\":\"MAE Score\",\n",
    "    \"Baseline Linear Regression\": lr_score,\n",
    "    \"Polynomial Linear Regression\": lr_poly_score,\n",
    "    \"Ridge Regression\": ridge_score,\n",
    "    \"Lasso Regression\": lasso_score\n",
    "    \n",
    "})\n",
    "train_performance"
   ]
  },
  {
   "cell_type": "markdown",
   "metadata": {},
   "source": [
    "## Model Evaluation"
   ]
  },
  {
   "cell_type": "code",
   "execution_count": null,
   "metadata": {},
   "outputs": [],
   "source": []
  },
  {
   "cell_type": "markdown",
   "metadata": {},
   "source": [
    "# 4. Insights and key findings\n"
   ]
  },
  {
   "cell_type": "code",
   "execution_count": null,
   "metadata": {},
   "outputs": [],
   "source": []
  },
  {
   "cell_type": "code",
   "execution_count": null,
   "metadata": {},
   "outputs": [],
   "source": []
  },
  {
   "cell_type": "markdown",
   "metadata": {},
   "source": [
    "# 5. Next Steps\n"
   ]
  },
  {
   "cell_type": "code",
   "execution_count": null,
   "metadata": {},
   "outputs": [],
   "source": []
  },
  {
   "cell_type": "code",
   "execution_count": null,
   "metadata": {},
   "outputs": [],
   "source": []
  },
  {
   "cell_type": "markdown",
   "metadata": {},
   "source": [
    "## <h3 align=\"center\"> © IBM Corporation 2020. All rights reserved. <h3/>\n"
   ]
  }
 ],
 "metadata": {
  "kernelspec": {
   "display_name": "Python 3 (ipykernel)",
   "language": "python",
   "name": "python3"
  },
  "language_info": {
   "codemirror_mode": {
    "name": "ipython",
    "version": 3
   },
   "file_extension": ".py",
   "mimetype": "text/x-python",
   "name": "python",
   "nbconvert_exporter": "python",
   "pygments_lexer": "ipython3",
   "version": "3.10.5"
  }
 },
 "nbformat": 4,
 "nbformat_minor": 4
}
