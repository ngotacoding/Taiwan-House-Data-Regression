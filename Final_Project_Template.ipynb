{
 "cells": [
  {
   "cell_type": "markdown",
   "metadata": {},
   "source": [
    "<p style=\"text-align:center\">\n",
    "    <a href=\"https://skills.network/?utm_medium=Exinfluencer&utm_source=Exinfluencer&utm_content=000026UJ&utm_term=10006555&utm_id=NA-SkillsNetwork-Channel-SkillsNetworkCoursesIBMDeveloperSkillsNetworkML0101ENSkillsNetwork20718538-2022-01-01\" target=\"_blank\">\n",
    "    <img src=\"https://cf-courses-data.s3.us.cloud-object-storage.appdomain.cloud/assets/logos/SN_web_lightmode.png\" width=\"200\" alt=\"Skills Network Logo\"  />\n",
    "    </a>\n",
    "</p>\n",
    "\n",
    "<h1 align=\"center\"><font size=\"5\">Supervised Machine Learning: Regression - Final Assignment</font></h1>\n"
   ]
  },
  {
   "cell_type": "markdown",
   "metadata": {},
   "source": [
    "## Instructions:\n",
    "\n",
    "In this Assignment, you will demonstrate the data regression skills you have learned by completing this course. You are expected to leverage a wide variety of tools, but also this report should focus on present findings, insights, and next steps. You may include some visuals from your code output, but this report is intended as a summary of your findings, not as a code review.\n",
    "\n",
    "The grading will center around 5 main points:\n",
    "\n",
    "1.  Does the report include a section describing the data?\n",
    "2.  Does the report include a paragraph detailing the main objective(s) of this analysis?\n",
    "3.  Does the report include a section with variations of linear regression models and specifies which one is the model that best suits the main objective(s) of this analysis.\n",
    "4.  Does the report include a clear and well-presented section with key findings related to the main objective(s) of the analysis?\n",
    "5.  Does the report highlight possible flaws in the model and a plan of action to revisit this analysis with additional data or different predictive modeling techniques?\n"
   ]
  },
  {
   "cell_type": "markdown",
   "metadata": {},
   "source": [
    "## Import the required libraries\n"
   ]
  },
  {
   "cell_type": "markdown",
   "metadata": {},
   "source": [
    "The following required modules are pre-installed in the Skills Network Labs environment. However if you run this notebook commands in a different Jupyter environment (e.g. Watson Studio or Ananconda) you will need to install these libraries by removing the `#` sign before `!mamba` in the code cell below.\n"
   ]
  },
  {
   "cell_type": "code",
   "execution_count": 1,
   "metadata": {},
   "outputs": [],
   "source": [
    "# All Libraries required for this lab are listed below. The libraries pre-installed on Skills Network Labs are commented.\n",
    "# !mamba install -qy pandas==1.3.4 numpy==1.21.4 seaborn==0.9.0 matplotlib==3.5.0 scikit-learn==0.20.1\n",
    "# Note: If your environment doesn't support \"!mamba install\", use \"!pip install\""
   ]
  },
  {
   "cell_type": "code",
   "execution_count": 2,
   "metadata": {},
   "outputs": [],
   "source": [
    "#!pip install plotly"
   ]
  },
  {
   "cell_type": "code",
   "execution_count": 38,
   "metadata": {},
   "outputs": [],
   "source": [
    "import numpy as np\n",
    "import pandas as pd\n",
    "import seaborn as sns\n",
    "import warnings\n",
    "import matplotlib as mpl\n",
    "import matplotlib.pyplot as plt\n",
    "import plotly.express as px\n",
    "import plotly.graph_objects as go\n",
    "from sklearn.model_selection import train_test_split\n",
    "from sklearn.preprocessing import StandardScaler\n",
    "from sklearn.preprocessing import PolynomialFeatures\n",
    "from sklearn.pipeline import Pipeline\n",
    "from sklearn.model_selection import cross_val_predict\n",
    "from sklearn.model_selection import KFold\n",
    "from sklearn.model_selection import GridSearchCV\n",
    "from sklearn.linear_model import LinearRegression\n",
    "from sklearn.linear_model import Ridge\n",
    "from sklearn.linear_model import Lasso\n",
    "from sklearn.metrics import mean_absolute_error\n",
    "\n",
    "warnings.filterwarnings('ignore')"
   ]
  },
  {
   "cell_type": "markdown",
   "metadata": {},
   "source": [
    "## Importing the Dataset\n"
   ]
  },
  {
   "cell_type": "markdown",
   "metadata": {},
   "source": [
    "Before you begin, you will need to choose a data set that you feel passionate about. You can brainstorm with your peers about great public data sets using the discussion board in this module.\n"
   ]
  },
  {
   "cell_type": "markdown",
   "metadata": {},
   "source": [
    "Read your chosen dataset into pandas dataframe:\n"
   ]
  },
  {
   "cell_type": "code",
   "execution_count": 4,
   "metadata": {},
   "outputs": [
    {
     "data": {
      "text/html": [
       "<div>\n",
       "<style scoped>\n",
       "    .dataframe tbody tr th:only-of-type {\n",
       "        vertical-align: middle;\n",
       "    }\n",
       "\n",
       "    .dataframe tbody tr th {\n",
       "        vertical-align: top;\n",
       "    }\n",
       "\n",
       "    .dataframe thead th {\n",
       "        text-align: right;\n",
       "    }\n",
       "</style>\n",
       "<table border=\"1\" class=\"dataframe\">\n",
       "  <thead>\n",
       "    <tr style=\"text-align: right;\">\n",
       "      <th></th>\n",
       "      <th>date</th>\n",
       "      <th>age</th>\n",
       "      <th>nearest MRT station</th>\n",
       "      <th>convenience stores</th>\n",
       "      <th>latitude</th>\n",
       "      <th>longitude</th>\n",
       "      <th>price per unit area</th>\n",
       "    </tr>\n",
       "    <tr>\n",
       "      <th>No</th>\n",
       "      <th></th>\n",
       "      <th></th>\n",
       "      <th></th>\n",
       "      <th></th>\n",
       "      <th></th>\n",
       "      <th></th>\n",
       "      <th></th>\n",
       "    </tr>\n",
       "  </thead>\n",
       "  <tbody>\n",
       "    <tr>\n",
       "      <th>1</th>\n",
       "      <td>2012.917</td>\n",
       "      <td>32.0</td>\n",
       "      <td>84.87882</td>\n",
       "      <td>10</td>\n",
       "      <td>24.98298</td>\n",
       "      <td>121.54024</td>\n",
       "      <td>37.9</td>\n",
       "    </tr>\n",
       "    <tr>\n",
       "      <th>2</th>\n",
       "      <td>2012.917</td>\n",
       "      <td>19.5</td>\n",
       "      <td>306.59470</td>\n",
       "      <td>9</td>\n",
       "      <td>24.98034</td>\n",
       "      <td>121.53951</td>\n",
       "      <td>42.2</td>\n",
       "    </tr>\n",
       "    <tr>\n",
       "      <th>3</th>\n",
       "      <td>2013.583</td>\n",
       "      <td>13.3</td>\n",
       "      <td>561.98450</td>\n",
       "      <td>5</td>\n",
       "      <td>24.98746</td>\n",
       "      <td>121.54391</td>\n",
       "      <td>47.3</td>\n",
       "    </tr>\n",
       "    <tr>\n",
       "      <th>4</th>\n",
       "      <td>2013.500</td>\n",
       "      <td>13.3</td>\n",
       "      <td>561.98450</td>\n",
       "      <td>5</td>\n",
       "      <td>24.98746</td>\n",
       "      <td>121.54391</td>\n",
       "      <td>54.8</td>\n",
       "    </tr>\n",
       "    <tr>\n",
       "      <th>5</th>\n",
       "      <td>2012.833</td>\n",
       "      <td>5.0</td>\n",
       "      <td>390.56840</td>\n",
       "      <td>5</td>\n",
       "      <td>24.97937</td>\n",
       "      <td>121.54245</td>\n",
       "      <td>43.1</td>\n",
       "    </tr>\n",
       "  </tbody>\n",
       "</table>\n",
       "</div>"
      ],
      "text/plain": [
       "        date   age  nearest MRT station  convenience stores  latitude  \\\n",
       "No                                                                      \n",
       "1   2012.917  32.0             84.87882                  10  24.98298   \n",
       "2   2012.917  19.5            306.59470                   9  24.98034   \n",
       "3   2013.583  13.3            561.98450                   5  24.98746   \n",
       "4   2013.500  13.3            561.98450                   5  24.98746   \n",
       "5   2012.833   5.0            390.56840                   5  24.97937   \n",
       "\n",
       "    longitude  price per unit area  \n",
       "No                                  \n",
       "1   121.54024                 37.9  \n",
       "2   121.53951                 42.2  \n",
       "3   121.54391                 47.3  \n",
       "4   121.54391                 54.8  \n",
       "5   121.54245                 43.1  "
      ]
     },
     "execution_count": 4,
     "metadata": {},
     "output_type": "execute_result"
    }
   ],
   "source": [
    "data = pd.read_csv('Real estate valuation data set.csv').set_index('No')\n",
    "data.head()"
   ]
  },
  {
   "cell_type": "markdown",
   "metadata": {},
   "source": [
    "Once you have selected a data set, you will produce the deliverables listed below and submit them to one of your peers for review. Treat this exercise as an opportunity to produce analysis that are ready to highlight your analytical skills for a senior audience, for example, the Chief Data Officer, or the Head of Analytics at your company.\n",
    "Sections required in your report:\n",
    "\n",
    "*   Main objective of the analysis that specifies whether your model will be focused on prediction or interpretation.\n",
    "*   Brief description of the data set you chose and a summary of its attributes.\n",
    "*   Brief summary of data exploration and actions taken for data cleaning and feature engineering.\n",
    "*   Summary of training at least three linear regression models which should be variations that cover using a simple  linear regression as a baseline, adding polynomial effects, and using a regularization regression. Preferably, all use the same training and test splits, or the same cross-validation method.\n",
    "*   A paragraph explaining which of your regressions you recommend as a final model that best fits your needs in terms of accuracy and explainability.\n",
    "*   Summary Key Findings and Insights, which walks your reader through the main drivers of your model and insights from your data derived from your linear regression model.\n",
    "*   Suggestions for next steps in analyzing this data, which may include suggesting revisiting this model adding specific data features to achieve a better explanation or a better prediction.\n"
   ]
  },
  {
   "cell_type": "markdown",
   "metadata": {},
   "source": [
    "# 1. About the Data\n"
   ]
  },
  {
   "cell_type": "markdown",
   "metadata": {},
   "source": [
    "\n",
    "The data is market data of real estate valuation of houses as collected from Sindian Dist., New Taipei City, Taiwan by Prof. I-Cheng Yeh and availed on the [UCI Machine Learning Repository](https://archive.ics.uci.edu/ml/datasets/Real+estate+valuation+data+set#)\n",
    "\n",
    "The Features in the data are described in the table below\n",
    "\n",
    "| Feature | Description |\n",
    "|---|---|\n",
    "|date| the year and month of valuation (for example, 2013.250=2013 March, 2013.500=2013 June, etc.)|\n",
    "|age|the house age in years|\n",
    "|nearest MRT station|the distance to the nearest Metro Rail Transit (MRT) station (unit: meter)|\n",
    "|convenience stores|the number of convenience stores close the house (integer)|\n",
    "|latitude|the geographic coordinate, latitude. (unit: degree)|\n",
    "|longitude|the geographic coordinate, longitude. (unit: degree)|\n",
    "|price per unit area|the price of a unit area of the house (10,000 New Taiwan Dollars per Ping, where Ping is a local unit equal to 3.3 meter squared)|\n",
    "\n",
    "\n"
   ]
  },
  {
   "cell_type": "markdown",
   "metadata": {},
   "source": [
    "# 2. Objectives\n"
   ]
  },
  {
   "cell_type": "markdown",
   "metadata": {},
   "source": [
    "Our target feature is the price per unit area.  \n",
    "From the data provided, Our main objective is to select the best model to predict future house prices and while identifying the most important features for house valuation in Taiwan.  \n",
    "The goals leading towards this objective are:\n",
    "- To inspect the data so as to identify any outliers, additional information or misrepresented data types.\n",
    "- To clean the data and remove any underlying issues so as to ensure  the data is ready for exploration\n",
    "- To split the data into a train set and test set\n",
    "- To briefly explore the distribution of the features and check for multi-collinearitty.\n",
    "- To identify the feature matrix for model building\n",
    "- To build the baseline linear regression model and get the base mean absolute error and r-squared score on the train set.\n",
    "- To build advanced models by incorporating polynomial features and regularization using ridge and lasso, and evaluating their performance using mean_absolute error and r-squared on train set \n",
    "\n",
    "- To evaluate all models' out of sample performance using the test set\n",
    "- To describe the model's performance using charts, scores, and ease of getting feature importance\n",
    "\n",
    "Our baseline model will be the basic linear regression.  \n",
    "We will then analyze Ridge, Lasso, Polynomial Regression to identify the best model.\n",
    "Grid Search will be utilized to select best hyper parameters for each model."
   ]
  },
  {
   "cell_type": "markdown",
   "metadata": {},
   "source": [
    "## Inspecting Data"
   ]
  },
  {
   "cell_type": "code",
   "execution_count": 5,
   "metadata": {},
   "outputs": [
    {
     "name": "stdout",
     "output_type": "stream",
     "text": [
      "Our data has 7 features and 414 observations\n"
     ]
    }
   ],
   "source": [
    "shape = data.shape\n",
    "print(f'Our data has {shape[1]} features and {shape[0]} observations')"
   ]
  },
  {
   "cell_type": "code",
   "execution_count": 6,
   "metadata": {},
   "outputs": [
    {
     "name": "stdout",
     "output_type": "stream",
     "text": [
      "<class 'pandas.core.frame.DataFrame'>\n",
      "Int64Index: 414 entries, 1 to 414\n",
      "Data columns (total 7 columns):\n",
      " #   Column               Non-Null Count  Dtype  \n",
      "---  ------               --------------  -----  \n",
      " 0   date                 414 non-null    float64\n",
      " 1   age                  414 non-null    float64\n",
      " 2   nearest MRT station  414 non-null    float64\n",
      " 3   convenience stores   414 non-null    int64  \n",
      " 4   latitude             414 non-null    float64\n",
      " 5   longitude            414 non-null    float64\n",
      " 6   price per unit area  414 non-null    float64\n",
      "dtypes: float64(6), int64(1)\n",
      "memory usage: 25.9 KB\n",
      "None\n"
     ]
    },
    {
     "data": {
      "text/html": [
       "<div>\n",
       "<style scoped>\n",
       "    .dataframe tbody tr th:only-of-type {\n",
       "        vertical-align: middle;\n",
       "    }\n",
       "\n",
       "    .dataframe tbody tr th {\n",
       "        vertical-align: top;\n",
       "    }\n",
       "\n",
       "    .dataframe thead th {\n",
       "        text-align: right;\n",
       "    }\n",
       "</style>\n",
       "<table border=\"1\" class=\"dataframe\">\n",
       "  <thead>\n",
       "    <tr style=\"text-align: right;\">\n",
       "      <th></th>\n",
       "      <th>date</th>\n",
       "      <th>age</th>\n",
       "      <th>nearest MRT station</th>\n",
       "      <th>convenience stores</th>\n",
       "      <th>latitude</th>\n",
       "      <th>longitude</th>\n",
       "      <th>price per unit area</th>\n",
       "    </tr>\n",
       "    <tr>\n",
       "      <th>No</th>\n",
       "      <th></th>\n",
       "      <th></th>\n",
       "      <th></th>\n",
       "      <th></th>\n",
       "      <th></th>\n",
       "      <th></th>\n",
       "      <th></th>\n",
       "    </tr>\n",
       "  </thead>\n",
       "  <tbody>\n",
       "    <tr>\n",
       "      <th>1</th>\n",
       "      <td>2012.917</td>\n",
       "      <td>32.0</td>\n",
       "      <td>84.87882</td>\n",
       "      <td>10</td>\n",
       "      <td>24.98298</td>\n",
       "      <td>121.54024</td>\n",
       "      <td>37.9</td>\n",
       "    </tr>\n",
       "    <tr>\n",
       "      <th>2</th>\n",
       "      <td>2012.917</td>\n",
       "      <td>19.5</td>\n",
       "      <td>306.59470</td>\n",
       "      <td>9</td>\n",
       "      <td>24.98034</td>\n",
       "      <td>121.53951</td>\n",
       "      <td>42.2</td>\n",
       "    </tr>\n",
       "    <tr>\n",
       "      <th>3</th>\n",
       "      <td>2013.583</td>\n",
       "      <td>13.3</td>\n",
       "      <td>561.98450</td>\n",
       "      <td>5</td>\n",
       "      <td>24.98746</td>\n",
       "      <td>121.54391</td>\n",
       "      <td>47.3</td>\n",
       "    </tr>\n",
       "    <tr>\n",
       "      <th>4</th>\n",
       "      <td>2013.500</td>\n",
       "      <td>13.3</td>\n",
       "      <td>561.98450</td>\n",
       "      <td>5</td>\n",
       "      <td>24.98746</td>\n",
       "      <td>121.54391</td>\n",
       "      <td>54.8</td>\n",
       "    </tr>\n",
       "    <tr>\n",
       "      <th>5</th>\n",
       "      <td>2012.833</td>\n",
       "      <td>5.0</td>\n",
       "      <td>390.56840</td>\n",
       "      <td>5</td>\n",
       "      <td>24.97937</td>\n",
       "      <td>121.54245</td>\n",
       "      <td>43.1</td>\n",
       "    </tr>\n",
       "  </tbody>\n",
       "</table>\n",
       "</div>"
      ],
      "text/plain": [
       "        date   age  nearest MRT station  convenience stores  latitude  \\\n",
       "No                                                                      \n",
       "1   2012.917  32.0             84.87882                  10  24.98298   \n",
       "2   2012.917  19.5            306.59470                   9  24.98034   \n",
       "3   2013.583  13.3            561.98450                   5  24.98746   \n",
       "4   2013.500  13.3            561.98450                   5  24.98746   \n",
       "5   2012.833   5.0            390.56840                   5  24.97937   \n",
       "\n",
       "    longitude  price per unit area  \n",
       "No                                  \n",
       "1   121.54024                 37.9  \n",
       "2   121.53951                 42.2  \n",
       "3   121.54391                 47.3  \n",
       "4   121.54391                 54.8  \n",
       "5   121.54245                 43.1  "
      ]
     },
     "execution_count": 6,
     "metadata": {},
     "output_type": "execute_result"
    }
   ],
   "source": [
    "print(data.info())\n",
    "data.head()"
   ]
  },
  {
   "cell_type": "markdown",
   "metadata": {},
   "source": [
    "- All our features are numeric\n",
    "- The data has no missing values\n",
    "- The date column includes data on the month of valuation in form of decimal positions\n"
   ]
  },
  {
   "cell_type": "markdown",
   "metadata": {},
   "source": [
    "## Data Cleaning"
   ]
  },
  {
   "cell_type": "markdown",
   "metadata": {},
   "source": [
    "**Data Cleaning Requirements**  \n",
    "- The date column should be of type integer(int64), but is float type (float64) due to the additional month information, hence:\n",
    "    - New column for month is required to extract that month information in the date column\n",
    "    - Type conversion of the date to integer(int64) is required after extracting month data\n",
    "    - Renaming of date column to year is necessary as the data in the column is year of valuation\n",
    "- Outliers in our target may influence our model. Thus, we will drop columns with possible outlying target feature values. This will be done by ensuring there is no value greater than one and a half times the interquartile range, in range from the 25<sup>th</sup> percentile.\n",
    "\n",
    "The data cleaning will all be done using the function `clean_data()`, that will take in our messy data and return clean data."
   ]
  },
  {
   "cell_type": "code",
   "execution_count": 7,
   "metadata": {},
   "outputs": [],
   "source": [
    "def clean_data(df: object):\n",
    "    \n",
    "    # Create month column\n",
    "    df['month'] = ((df['date'] % 1) * 12).round().astype(int).replace(0,12)\n",
    "    \n",
    "    # Convert date to integer\n",
    "    df['date'] = df['date'].astype(int)\n",
    "    \n",
    "    # Rename date as year\n",
    "    df.rename(columns= {'date': 'year'}, inplace = True)\n",
    "    \n",
    "    # Removing outliers in our target feature\n",
    "    target = 'price per unit area'\n",
    "    lower_quartile, upper_quartile = np.quantile(df[target], [0.25,0.75])\n",
    "    interquartile_range = upper_quartile - lower_quartile\n",
    "    upper_cutoff = lower_quartile + (1.5 * interquartile_range)\n",
    "    df = df[df[target] < upper_cutoff]\n",
    "    \n",
    "    return df\n",
    "    "
   ]
  },
  {
   "cell_type": "markdown",
   "metadata": {},
   "source": [
    "Let us now clean our data"
   ]
  },
  {
   "cell_type": "code",
   "execution_count": 8,
   "metadata": {},
   "outputs": [
    {
     "data": {
      "text/html": [
       "<div>\n",
       "<style scoped>\n",
       "    .dataframe tbody tr th:only-of-type {\n",
       "        vertical-align: middle;\n",
       "    }\n",
       "\n",
       "    .dataframe tbody tr th {\n",
       "        vertical-align: top;\n",
       "    }\n",
       "\n",
       "    .dataframe thead th {\n",
       "        text-align: right;\n",
       "    }\n",
       "</style>\n",
       "<table border=\"1\" class=\"dataframe\">\n",
       "  <thead>\n",
       "    <tr style=\"text-align: right;\">\n",
       "      <th></th>\n",
       "      <th>year</th>\n",
       "      <th>age</th>\n",
       "      <th>nearest MRT station</th>\n",
       "      <th>convenience stores</th>\n",
       "      <th>latitude</th>\n",
       "      <th>longitude</th>\n",
       "      <th>price per unit area</th>\n",
       "      <th>month</th>\n",
       "    </tr>\n",
       "    <tr>\n",
       "      <th>No</th>\n",
       "      <th></th>\n",
       "      <th></th>\n",
       "      <th></th>\n",
       "      <th></th>\n",
       "      <th></th>\n",
       "      <th></th>\n",
       "      <th></th>\n",
       "      <th></th>\n",
       "    </tr>\n",
       "  </thead>\n",
       "  <tbody>\n",
       "    <tr>\n",
       "      <th>1</th>\n",
       "      <td>2012</td>\n",
       "      <td>32.0</td>\n",
       "      <td>84.87882</td>\n",
       "      <td>10</td>\n",
       "      <td>24.98298</td>\n",
       "      <td>121.54024</td>\n",
       "      <td>37.9</td>\n",
       "      <td>11</td>\n",
       "    </tr>\n",
       "    <tr>\n",
       "      <th>2</th>\n",
       "      <td>2012</td>\n",
       "      <td>19.5</td>\n",
       "      <td>306.59470</td>\n",
       "      <td>9</td>\n",
       "      <td>24.98034</td>\n",
       "      <td>121.53951</td>\n",
       "      <td>42.2</td>\n",
       "      <td>11</td>\n",
       "    </tr>\n",
       "    <tr>\n",
       "      <th>3</th>\n",
       "      <td>2013</td>\n",
       "      <td>13.3</td>\n",
       "      <td>561.98450</td>\n",
       "      <td>5</td>\n",
       "      <td>24.98746</td>\n",
       "      <td>121.54391</td>\n",
       "      <td>47.3</td>\n",
       "      <td>7</td>\n",
       "    </tr>\n",
       "    <tr>\n",
       "      <th>4</th>\n",
       "      <td>2013</td>\n",
       "      <td>13.3</td>\n",
       "      <td>561.98450</td>\n",
       "      <td>5</td>\n",
       "      <td>24.98746</td>\n",
       "      <td>121.54391</td>\n",
       "      <td>54.8</td>\n",
       "      <td>6</td>\n",
       "    </tr>\n",
       "    <tr>\n",
       "      <th>5</th>\n",
       "      <td>2012</td>\n",
       "      <td>5.0</td>\n",
       "      <td>390.56840</td>\n",
       "      <td>5</td>\n",
       "      <td>24.97937</td>\n",
       "      <td>121.54245</td>\n",
       "      <td>43.1</td>\n",
       "      <td>10</td>\n",
       "    </tr>\n",
       "  </tbody>\n",
       "</table>\n",
       "</div>"
      ],
      "text/plain": [
       "    year   age  nearest MRT station  convenience stores  latitude  longitude  \\\n",
       "No                                                                             \n",
       "1   2012  32.0             84.87882                  10  24.98298  121.54024   \n",
       "2   2012  19.5            306.59470                   9  24.98034  121.53951   \n",
       "3   2013  13.3            561.98450                   5  24.98746  121.54391   \n",
       "4   2013  13.3            561.98450                   5  24.98746  121.54391   \n",
       "5   2012   5.0            390.56840                   5  24.97937  121.54245   \n",
       "\n",
       "    price per unit area  month  \n",
       "No                              \n",
       "1                  37.9     11  \n",
       "2                  42.2     11  \n",
       "3                  47.3      7  \n",
       "4                  54.8      6  \n",
       "5                  43.1     10  "
      ]
     },
     "execution_count": 8,
     "metadata": {},
     "output_type": "execute_result"
    }
   ],
   "source": [
    "data = clean_data(data)\n",
    "data.head()"
   ]
  },
  {
   "cell_type": "code",
   "execution_count": 9,
   "metadata": {},
   "outputs": [
    {
     "name": "stdout",
     "output_type": "stream",
     "text": [
      "<class 'pandas.core.frame.DataFrame'>\n",
      "Int64Index: 381 entries, 1 to 413\n",
      "Data columns (total 8 columns):\n",
      " #   Column               Non-Null Count  Dtype  \n",
      "---  ------               --------------  -----  \n",
      " 0   year                 381 non-null    int64  \n",
      " 1   age                  381 non-null    float64\n",
      " 2   nearest MRT station  381 non-null    float64\n",
      " 3   convenience stores   381 non-null    int64  \n",
      " 4   latitude             381 non-null    float64\n",
      " 5   longitude            381 non-null    float64\n",
      " 6   price per unit area  381 non-null    float64\n",
      " 7   month                381 non-null    int64  \n",
      "dtypes: float64(5), int64(3)\n",
      "memory usage: 26.8 KB\n"
     ]
    }
   ],
   "source": [
    "data.info()"
   ]
  },
  {
   "cell_type": "markdown",
   "metadata": {
    "tags": []
   },
   "source": [
    "### Train-Test Split"
   ]
  },
  {
   "cell_type": "markdown",
   "metadata": {},
   "source": [
    "We split our data into a test set and a train set before exploration to prevent any bias in our modelling."
   ]
  },
  {
   "cell_type": "code",
   "execution_count": 10,
   "metadata": {},
   "outputs": [],
   "source": [
    "train_data, test_data = train_test_split(data, test_size = 0.2, random_state = 4)"
   ]
  },
  {
   "cell_type": "code",
   "execution_count": 11,
   "metadata": {},
   "outputs": [
    {
     "name": "stdout",
     "output_type": "stream",
     "text": [
      "Shape of train_data: (304, 8)\n",
      "Shape of test_data: (77, 8)\n",
      "\n"
     ]
    }
   ],
   "source": [
    "shapes = (f\"Shape of train_data: {train_data.shape}\\n\"\n",
    "          f\"Shape of test_data: {test_data.shape}\\n\"\n",
    "          )\n",
    "print(shapes)"
   ]
  },
  {
   "cell_type": "markdown",
   "metadata": {},
   "source": [
    "## Data Exploration"
   ]
  },
  {
   "cell_type": "markdown",
   "metadata": {},
   "source": [
    "For Exploration, we will check the statistical summary and basic distributions of our features"
   ]
  },
  {
   "cell_type": "code",
   "execution_count": 12,
   "metadata": {},
   "outputs": [
    {
     "data": {
      "text/html": [
       "<div>\n",
       "<style scoped>\n",
       "    .dataframe tbody tr th:only-of-type {\n",
       "        vertical-align: middle;\n",
       "    }\n",
       "\n",
       "    .dataframe tbody tr th {\n",
       "        vertical-align: top;\n",
       "    }\n",
       "\n",
       "    .dataframe thead th {\n",
       "        text-align: right;\n",
       "    }\n",
       "</style>\n",
       "<table border=\"1\" class=\"dataframe\">\n",
       "  <thead>\n",
       "    <tr style=\"text-align: right;\">\n",
       "      <th></th>\n",
       "      <th>year</th>\n",
       "      <th>age</th>\n",
       "      <th>nearest MRT station</th>\n",
       "      <th>convenience stores</th>\n",
       "      <th>latitude</th>\n",
       "      <th>longitude</th>\n",
       "      <th>price per unit area</th>\n",
       "      <th>month</th>\n",
       "    </tr>\n",
       "  </thead>\n",
       "  <tbody>\n",
       "    <tr>\n",
       "      <th>count</th>\n",
       "      <td>304.000000</td>\n",
       "      <td>304.000000</td>\n",
       "      <td>304.000000</td>\n",
       "      <td>304.000000</td>\n",
       "      <td>304.000000</td>\n",
       "      <td>304.000000</td>\n",
       "      <td>304.000000</td>\n",
       "      <td>304.000000</td>\n",
       "    </tr>\n",
       "    <tr>\n",
       "      <th>mean</th>\n",
       "      <td>2012.694079</td>\n",
       "      <td>18.321053</td>\n",
       "      <td>1168.852675</td>\n",
       "      <td>3.891447</td>\n",
       "      <td>24.968331</td>\n",
       "      <td>121.532760</td>\n",
       "      <td>35.506908</td>\n",
       "      <td>6.342105</td>\n",
       "    </tr>\n",
       "    <tr>\n",
       "      <th>std</th>\n",
       "      <td>0.461556</td>\n",
       "      <td>10.990858</td>\n",
       "      <td>1298.649252</td>\n",
       "      <td>2.884703</td>\n",
       "      <td>0.012872</td>\n",
       "      <td>0.015839</td>\n",
       "      <td>11.208989</td>\n",
       "      <td>3.436564</td>\n",
       "    </tr>\n",
       "    <tr>\n",
       "      <th>min</th>\n",
       "      <td>2012.000000</td>\n",
       "      <td>0.000000</td>\n",
       "      <td>23.382840</td>\n",
       "      <td>0.000000</td>\n",
       "      <td>24.932070</td>\n",
       "      <td>121.475160</td>\n",
       "      <td>7.600000</td>\n",
       "      <td>1.000000</td>\n",
       "    </tr>\n",
       "    <tr>\n",
       "      <th>25%</th>\n",
       "      <td>2012.000000</td>\n",
       "      <td>11.975000</td>\n",
       "      <td>323.682150</td>\n",
       "      <td>1.000000</td>\n",
       "      <td>24.962038</td>\n",
       "      <td>121.518370</td>\n",
       "      <td>26.500000</td>\n",
       "      <td>4.000000</td>\n",
       "    </tr>\n",
       "    <tr>\n",
       "      <th>50%</th>\n",
       "      <td>2013.000000</td>\n",
       "      <td>16.200000</td>\n",
       "      <td>531.626650</td>\n",
       "      <td>4.000000</td>\n",
       "      <td>24.969130</td>\n",
       "      <td>121.538430</td>\n",
       "      <td>37.000000</td>\n",
       "      <td>6.000000</td>\n",
       "    </tr>\n",
       "    <tr>\n",
       "      <th>75%</th>\n",
       "      <td>2013.000000</td>\n",
       "      <td>29.150000</td>\n",
       "      <td>1712.632000</td>\n",
       "      <td>6.000000</td>\n",
       "      <td>24.978388</td>\n",
       "      <td>121.543222</td>\n",
       "      <td>44.050000</td>\n",
       "      <td>9.000000</td>\n",
       "    </tr>\n",
       "    <tr>\n",
       "      <th>max</th>\n",
       "      <td>2013.000000</td>\n",
       "      <td>42.700000</td>\n",
       "      <td>6396.283000</td>\n",
       "      <td>10.000000</td>\n",
       "      <td>25.014590</td>\n",
       "      <td>121.566270</td>\n",
       "      <td>55.900000</td>\n",
       "      <td>12.000000</td>\n",
       "    </tr>\n",
       "  </tbody>\n",
       "</table>\n",
       "</div>"
      ],
      "text/plain": [
       "              year         age  nearest MRT station  convenience stores  \\\n",
       "count   304.000000  304.000000           304.000000          304.000000   \n",
       "mean   2012.694079   18.321053          1168.852675            3.891447   \n",
       "std       0.461556   10.990858          1298.649252            2.884703   \n",
       "min    2012.000000    0.000000            23.382840            0.000000   \n",
       "25%    2012.000000   11.975000           323.682150            1.000000   \n",
       "50%    2013.000000   16.200000           531.626650            4.000000   \n",
       "75%    2013.000000   29.150000          1712.632000            6.000000   \n",
       "max    2013.000000   42.700000          6396.283000           10.000000   \n",
       "\n",
       "         latitude   longitude  price per unit area       month  \n",
       "count  304.000000  304.000000           304.000000  304.000000  \n",
       "mean    24.968331  121.532760            35.506908    6.342105  \n",
       "std      0.012872    0.015839            11.208989    3.436564  \n",
       "min     24.932070  121.475160             7.600000    1.000000  \n",
       "25%     24.962038  121.518370            26.500000    4.000000  \n",
       "50%     24.969130  121.538430            37.000000    6.000000  \n",
       "75%     24.978388  121.543222            44.050000    9.000000  \n",
       "max     25.014590  121.566270            55.900000   12.000000  "
      ]
     },
     "execution_count": 12,
     "metadata": {},
     "output_type": "execute_result"
    }
   ],
   "source": [
    "train_data.describe()"
   ]
  },
  {
   "cell_type": "markdown",
   "metadata": {},
   "source": [
    "We will use seaborn's whitegrid style for our graphs"
   ]
  },
  {
   "cell_type": "code",
   "execution_count": 13,
   "metadata": {},
   "outputs": [],
   "source": [
    "sns.set(style='whitegrid')"
   ]
  },
  {
   "cell_type": "markdown",
   "metadata": {},
   "source": [
    "### Distribution of features "
   ]
  },
  {
   "cell_type": "code",
   "execution_count": 14,
   "metadata": {},
   "outputs": [
    {
     "data": {
      "image/png": "[encoded data removed]",
      "text/plain": [
       "<Figure size 864x864 with 9 Axes>"
      ]
     },
     "metadata": {
      "needs_background": "light"
     },
     "output_type": "display_data"
    }
   ],
   "source": [
    "fig, ax = plt.subplots(figsize=(12,12))\n",
    "train_data.hist(ax=ax)\n",
    "plt.tight_layout()\n",
    "plt.show()"
   ]
  },
  {
   "cell_type": "markdown",
   "metadata": {},
   "source": [
    "- The year column is a categorical variable. It has two categories, 2012 and 2013.This means that the valuation of these houses happened in 2012 and 2013.\n",
    "    - Year is a low cardinality feature but is considered based on the additional infomation it may carry when combined with the month feature. (for interpretation)\n",
    "- Most houses are located at most 2000 meters(2 Kilometers) away from an MRT station.\n",
    "- The most common price region per unit area is between 200,000 and 500,000 Taiwanese Dollars"
   ]
  },
  {
   "cell_type": "markdown",
   "metadata": {},
   "source": [
    "## Data Preprocessing For Model\n"
   ]
  },
  {
   "cell_type": "markdown",
   "metadata": {
    "tags": []
   },
   "source": [
    "### Feature Selection "
   ]
  },
  {
   "cell_type": "markdown",
   "metadata": {},
   "source": [
    "price per unit area is our target feature"
   ]
  },
  {
   "cell_type": "code",
   "execution_count": 15,
   "metadata": {},
   "outputs": [],
   "source": [
    "target = 'price per unit area'\n",
    "y_train = train_data[target]\n",
    "y_test = test_data[target]"
   ]
  },
  {
   "cell_type": "markdown",
   "metadata": {},
   "source": [
    "All other columns but price per unit area are part of the feature matrix.  "
   ]
  },
  {
   "cell_type": "code",
   "execution_count": 16,
   "metadata": {},
   "outputs": [
    {
     "data": {
      "text/plain": [
       "['year',\n",
       " 'age',\n",
       " 'nearest MRT station',\n",
       " 'convenience stores',\n",
       " 'latitude',\n",
       " 'longitude',\n",
       " 'month']"
      ]
     },
     "execution_count": 16,
     "metadata": {},
     "output_type": "execute_result"
    }
   ],
   "source": [
    "Features = []\n",
    "for column in data.columns:\n",
    "    if column != target:\n",
    "        Features.append(column)\n",
    "        \n",
    "Features"
   ]
  },
  {
   "cell_type": "code",
   "execution_count": 17,
   "metadata": {},
   "outputs": [],
   "source": [
    "X_train = train_data[Features]\n",
    "X_test = test_data[Features]"
   ]
  },
  {
   "cell_type": "markdown",
   "metadata": {},
   "source": [
    "### Defining Cross Validation Split using KFold"
   ]
  },
  {
   "cell_type": "markdown",
   "metadata": {},
   "source": [
    "To ensure the cross validation is uniform across all models, we will use KFold to produce the uniform cross validation selection. "
   ]
  },
  {
   "cell_type": "code",
   "execution_count": 18,
   "metadata": {
    "tags": []
   },
   "outputs": [],
   "source": [
    "kf = KFold(n_splits = 3, shuffle = True, random_state = 42)"
   ]
  },
  {
   "cell_type": "code",
   "execution_count": 19,
   "metadata": {
    "tags": []
   },
   "outputs": [],
   "source": [
    "def visualize(actual, predicted, dataframe = None):\n",
    "    \"\"\"Make regression and residual plots of the data\n",
    "    \n",
    "    Arguments:\n",
    "        actual: pd.Series/np.array -> array of actual values\n",
    "        predicted: pd.Series/np.array -> array of predicted values\n",
    "        Optional argument:\n",
    "            dataframe: Options are 'Train', 'Test', None. Default is None \n",
    "                       -> state the type of data\n",
    "    Returns:\n",
    "        plot_1 -> Regression plot\n",
    "        plot_2 -> Residuals' plot\n",
    "    \"\"\"\n",
    "    try:\n",
    "        dataframe = f'{dataframe.title()} '\n",
    "    except:\n",
    "        dataframe = ''\n",
    "    # Matplotlib style\n",
    "    mpl.style.use(\"seaborn-dark\")\n",
    "    mpl.style.use('tableau-colorblind10')\n",
    "    # Create figure and axes\n",
    "    fig, axes = plt.subplots(2,figsize=(15,12))\n",
    "    \n",
    "    ax1,ax2 = axes\n",
    "    # Create Regression plot\n",
    "    sns.regplot(x = actual, y = predicted, ax=ax1)\n",
    "    #ax1.plot([actual.min(), actual.max()], \n",
    "    #        [actual.min(), actual.max()], \n",
    "    #        \"k--\", lw=4,\n",
    "    #        label = 'Regression Line'\n",
    "    #       )\n",
    "\n",
    "    ax1.set_xlabel(\"Actual Values\")\n",
    "    ax1.set_ylabel(\"Predicted Values\")\n",
    "    ax1.set_title(f\"Regression Plot of Predicted vs Actual Values for {dataframe}Data\")\n",
    "    plot_1 = ax1\n",
    "\n",
    "    # Create Residual plot\n",
    "    sns.residplot(x = actual, \n",
    "                  y = predicted, \n",
    "                  color = 'green', ax=ax2,\n",
    "                  lowess=True, line_kws=dict(color=\"r\")\n",
    "                 )\n",
    "    ax2.set_xlabel(\"Actual Values\")\n",
    "    ax2.set_ylabel(\"Predicted Values\")\n",
    "    ax2.set_title(f\"Residuals for Predicted Values vs Actual Values for {dataframe}Data\")\n",
    "    plt.tight_layout()\n",
    "    plot_2 = ax2\n",
    "    \n",
    "    return plot_1, plot_2"
   ]
  },
  {
   "cell_type": "markdown",
   "metadata": {},
   "source": [
    "# 3. Linear Regression Models"
   ]
  },
  {
   "cell_type": "markdown",
   "metadata": {},
   "source": [
    "## Training"
   ]
  },
  {
   "cell_type": "markdown",
   "metadata": {},
   "source": [
    "### Baseline - Simple Linear Regression"
   ]
  },
  {
   "cell_type": "markdown",
   "metadata": {},
   "source": [
    "- Our baseline model is the Simple Linear Regression Model. \n",
    "- We will select the model that best improves upon performance from this baseline.  \n",
    "- Mean Absolute Error(MAE) is used for evaluation"
   ]
  },
  {
   "cell_type": "code",
   "execution_count": 20,
   "metadata": {},
   "outputs": [
    {
     "name": "stdout",
     "output_type": "stream",
     "text": [
      "Baseline MAE on Train Set is 4.8409\n"
     ]
    }
   ],
   "source": [
    "steps = [\n",
    "    ('scaler', StandardScaler()),\n",
    "    ('model', LinearRegression())\n",
    "]\n",
    "lr_model = Pipeline(steps).fit(X_train,y_train)\n",
    "y_pred_baseline =  lr_model.predict(X_train)\n",
    "lr_score = mean_absolute_error(y_pred_baseline, y_train).round(4)\n",
    "print(f'Baseline MAE on Train Set is {lr_score}')"
   ]
  },
  {
   "cell_type": "markdown",
   "metadata": {
    "tags": []
   },
   "source": [
    "### Linear regression with Polynomial Features"
   ]
  },
  {
   "cell_type": "markdown",
   "metadata": {},
   "source": [
    "Polynomial regression is done using GridSearch. This will help to select best polynomial degree using CrossValidation.  \n",
    "The best polynomial degree will be used for Ridge Regression and Lasso Regression.  "
   ]
  },
  {
   "cell_type": "code",
   "execution_count": 21,
   "metadata": {},
   "outputs": [
    {
     "name": "stdout",
     "output_type": "stream",
     "text": [
      "Polynomial Regression MAE on Train Set is 3.9157\n"
     ]
    }
   ],
   "source": [
    "steps = [\n",
    "    ('scaler', StandardScaler()),\n",
    "    ('poly', PolynomialFeatures()),\n",
    "    ('ridge', LinearRegression())\n",
    "]\n",
    "lr_poly = Pipeline(steps)\n",
    "params = {\n",
    "    \"poly__degree\": [2,3,4]\n",
    "}\n",
    "grid_poly = GridSearchCV(lr_poly,params, cv = kf).fit(X_train, y_train)\n",
    "y_pred_polyLR =  grid_poly.predict(X_train)\n",
    "lr_poly_score = mean_absolute_error(y_pred_polyLR, y_train).round(4)\n",
    "print(f'Polynomial Regression MAE on Train Set is {lr_poly_score}')"
   ]
  },
  {
   "cell_type": "code",
   "execution_count": 22,
   "metadata": {},
   "outputs": [
    {
     "data": {
      "text/html": [
       "<style>#sk-container-id-1 {color: black;background-color: white;}#sk-container-id-1 pre{padding: 0;}#sk-container-id-1 div.sk-toggleable {background-color: white;}#sk-container-id-1 label.sk-toggleable__label {cursor: pointer;display: block;width: 100%;margin-bottom: 0;padding: 0.3em;box-sizing: border-box;text-align: center;}#sk-container-id-1 label.sk-toggleable__label-arrow:before {content: \"▸\";float: left;margin-right: 0.25em;color: #696969;}#sk-container-id-1 label.sk-toggleable__label-arrow:hover:before {color: black;}#sk-container-id-1 div.sk-estimator:hover label.sk-toggleable__label-arrow:before {color: black;}#sk-container-id-1 div.sk-toggleable__content {max-height: 0;max-width: 0;overflow: hidden;text-align: left;background-color: #f0f8ff;}#sk-container-id-1 div.sk-toggleable__content pre {margin: 0.2em;color: black;border-radius: 0.25em;background-color: #f0f8ff;}#sk-container-id-1 input.sk-toggleable__control:checked~div.sk-toggleable__content {max-height: 200px;max-width: 100%;overflow: auto;}#sk-container-id-1 input.sk-toggleable__control:checked~label.sk-toggleable__label-arrow:before {content: \"▾\";}#sk-container-id-1 div.sk-estimator input.sk-toggleable__control:checked~label.sk-toggleable__label {background-color: #d4ebff;}#sk-container-id-1 div.sk-label input.sk-toggleable__control:checked~label.sk-toggleable__label {background-color: #d4ebff;}#sk-container-id-1 input.sk-hidden--visually {border: 0;clip: rect(1px 1px 1px 1px);clip: rect(1px, 1px, 1px, 1px);height: 1px;margin: -1px;overflow: hidden;padding: 0;position: absolute;width: 1px;}#sk-container-id-1 div.sk-estimator {font-family: monospace;background-color: #f0f8ff;border: 1px dotted black;border-radius: 0.25em;box-sizing: border-box;margin-bottom: 0.5em;}#sk-container-id-1 div.sk-estimator:hover {background-color: #d4ebff;}#sk-container-id-1 div.sk-parallel-item::after {content: \"\";width: 100%;border-bottom: 1px solid gray;flex-grow: 1;}#sk-container-id-1 div.sk-label:hover label.sk-toggleable__label {background-color: #d4ebff;}#sk-container-id-1 div.sk-serial::before {content: \"\";position: absolute;border-left: 1px solid gray;box-sizing: border-box;top: 0;bottom: 0;left: 50%;z-index: 0;}#sk-container-id-1 div.sk-serial {display: flex;flex-direction: column;align-items: center;background-color: white;padding-right: 0.2em;padding-left: 0.2em;position: relative;}#sk-container-id-1 div.sk-item {position: relative;z-index: 1;}#sk-container-id-1 div.sk-parallel {display: flex;align-items: stretch;justify-content: center;background-color: white;position: relative;}#sk-container-id-1 div.sk-item::before, #sk-container-id-1 div.sk-parallel-item::before {content: \"\";position: absolute;border-left: 1px solid gray;box-sizing: border-box;top: 0;bottom: 0;left: 50%;z-index: -1;}#sk-container-id-1 div.sk-parallel-item {display: flex;flex-direction: column;z-index: 1;position: relative;background-color: white;}#sk-container-id-1 div.sk-parallel-item:first-child::after {align-self: flex-end;width: 50%;}#sk-container-id-1 div.sk-parallel-item:last-child::after {align-self: flex-start;width: 50%;}#sk-container-id-1 div.sk-parallel-item:only-child::after {width: 0;}#sk-container-id-1 div.sk-dashed-wrapped {border: 1px dashed gray;margin: 0 0.4em 0.5em 0.4em;box-sizing: border-box;padding-bottom: 0.4em;background-color: white;}#sk-container-id-1 div.sk-label label {font-family: monospace;font-weight: bold;display: inline-block;line-height: 1.2em;}#sk-container-id-1 div.sk-label-container {text-align: center;}#sk-container-id-1 div.sk-container {/* jupyter's `normalize.less` sets `[hidden] { display: none; }` but bootstrap.min.css set `[hidden] { display: none !important; }` so we also need the `!important` here to be able to override the default hidden behavior on the sphinx rendered scikit-learn.org. See: https://github.com/scikit-learn/scikit-learn/issues/21755 */display: inline-block !important;position: relative;}#sk-container-id-1 div.sk-text-repr-fallback {display: none;}</style><div id=\"sk-container-id-1\" class=\"sk-top-container\"><div class=\"sk-text-repr-fallback\"><pre>Pipeline(steps=[(&#x27;scaler&#x27;, StandardScaler()), (&#x27;poly&#x27;, PolynomialFeatures()),\n",
       "                (&#x27;ridge&#x27;, LinearRegression())])</pre><b>In a Jupyter environment, please rerun this cell to show the HTML representation or trust the notebook. <br />On GitHub, the HTML representation is unable to render, please try loading this page with nbviewer.org.</b></div><div class=\"sk-container\" hidden><div class=\"sk-item sk-dashed-wrapped\"><div class=\"sk-label-container\"><div class=\"sk-label sk-toggleable\"><input class=\"sk-toggleable__control sk-hidden--visually\" id=\"sk-estimator-id-1\" type=\"checkbox\" ><label for=\"sk-estimator-id-1\" class=\"sk-toggleable__label sk-toggleable__label-arrow\">Pipeline</label><div class=\"sk-toggleable__content\"><pre>Pipeline(steps=[(&#x27;scaler&#x27;, StandardScaler()), (&#x27;poly&#x27;, PolynomialFeatures()),\n",
       "                (&#x27;ridge&#x27;, LinearRegression())])</pre></div></div></div><div class=\"sk-serial\"><div class=\"sk-item\"><div class=\"sk-estimator sk-toggleable\"><input class=\"sk-toggleable__control sk-hidden--visually\" id=\"sk-estimator-id-2\" type=\"checkbox\" ><label for=\"sk-estimator-id-2\" class=\"sk-toggleable__label sk-toggleable__label-arrow\">StandardScaler</label><div class=\"sk-toggleable__content\"><pre>StandardScaler()</pre></div></div></div><div class=\"sk-item\"><div class=\"sk-estimator sk-toggleable\"><input class=\"sk-toggleable__control sk-hidden--visually\" id=\"sk-estimator-id-3\" type=\"checkbox\" ><label for=\"sk-estimator-id-3\" class=\"sk-toggleable__label sk-toggleable__label-arrow\">PolynomialFeatures</label><div class=\"sk-toggleable__content\"><pre>PolynomialFeatures()</pre></div></div></div><div class=\"sk-item\"><div class=\"sk-estimator sk-toggleable\"><input class=\"sk-toggleable__control sk-hidden--visually\" id=\"sk-estimator-id-4\" type=\"checkbox\" ><label for=\"sk-estimator-id-4\" class=\"sk-toggleable__label sk-toggleable__label-arrow\">LinearRegression</label><div class=\"sk-toggleable__content\"><pre>LinearRegression()</pre></div></div></div></div></div></div></div>"
      ],
      "text/plain": [
       "Pipeline(steps=[('scaler', StandardScaler()), ('poly', PolynomialFeatures()),\n",
       "                ('ridge', LinearRegression())])"
      ]
     },
     "execution_count": 22,
     "metadata": {},
     "output_type": "execute_result"
    }
   ],
   "source": [
    "grid_poly.best_estimator_"
   ]
  },
  {
   "cell_type": "markdown",
   "metadata": {},
   "source": [
    "The best polynomial degree is **2**"
   ]
  },
  {
   "cell_type": "markdown",
   "metadata": {
    "tags": []
   },
   "source": [
    "### Ridge with Polynomial Features"
   ]
  },
  {
   "cell_type": "markdown",
   "metadata": {},
   "source": [
    "Ridge Regression with Polynomial order of **2**"
   ]
  },
  {
   "cell_type": "code",
   "execution_count": 23,
   "metadata": {},
   "outputs": [
    {
     "name": "stdout",
     "output_type": "stream",
     "text": [
      "Ridge Regression MAE on Train Set is 3.9142\n"
     ]
    }
   ],
   "source": [
    "steps = [\n",
    "    ('scaler', StandardScaler()),\n",
    "    ('poly', PolynomialFeatures()),\n",
    "    ('ridge', Ridge())\n",
    "]\n",
    "ridge_model = Pipeline(steps)\n",
    "\n",
    "params = {\n",
    "    'ridge__solver': ['auto', 'sag', 'saga', 'lsqr'],\n",
    "    'ridge__alpha' : np.logspace(-20, -2, 40)\n",
    "}\n",
    "grid_ridge = GridSearchCV(ridge_model, params, cv = kf).fit(X_train, y_train)\n",
    "y_pred_ridge = grid_ridge.predict(X_train)\n",
    "ridge_score = mean_absolute_error(y_pred_ridge, y_train).round(4)\n",
    "print(f'Ridge Regression MAE on Train Set is {ridge_score}')"
   ]
  },
  {
   "cell_type": "markdown",
   "metadata": {},
   "source": [
    "### Lasso with Polynomial Features"
   ]
  },
  {
   "cell_type": "markdown",
   "metadata": {},
   "source": [
    "Lasso Regression with Polynomial order of **2**"
   ]
  },
  {
   "cell_type": "code",
   "execution_count": 24,
   "metadata": {},
   "outputs": [
    {
     "name": "stdout",
     "output_type": "stream",
     "text": [
      "Lasso Regression MAE on Train Set is 3.8971\n"
     ]
    }
   ],
   "source": [
    "steps = [\n",
    "    ('scaler', StandardScaler()),\n",
    "    ('poly', PolynomialFeatures(degree = 2)),\n",
    "    ('lasso', Lasso())\n",
    "]\n",
    "lasso_model = Pipeline(steps)\n",
    "\n",
    "params = {\n",
    "    'lasso__alpha' : np.arange(0.01, 1, 0.1)\n",
    "}\n",
    "grid_lasso = GridSearchCV(lasso_model, params, cv = kf).fit(X_train, y_train)\n",
    "y_pred_lasso = grid_lasso.predict(X_train)\n",
    "lasso_score = mean_absolute_error(y_pred_lasso, y_train).round(4)\n",
    "print(f'Lasso Regression MAE on Train Set is {lasso_score}')"
   ]
  },
  {
   "cell_type": "markdown",
   "metadata": {},
   "source": [
    "### The models' performance on Train Set"
   ]
  },
  {
   "cell_type": "code",
   "execution_count": 25,
   "metadata": {},
   "outputs": [
    {
     "data": {
      "text/plain": [
       "Model                           MAE Score\n",
       "Baseline Linear Regression         4.8409\n",
       "Polynomial Linear Regression       3.9157\n",
       "Ridge Regression                   3.9142\n",
       "Lasso Regression                   3.8971\n",
       "dtype: object"
      ]
     },
     "execution_count": 25,
     "metadata": {},
     "output_type": "execute_result"
    }
   ],
   "source": [
    "train_performance = pd.Series({\n",
    "    \"Model\":\"MAE Score\",\n",
    "    \"Baseline Linear Regression\": lr_score,\n",
    "    \"Polynomial Linear Regression\": lr_poly_score,\n",
    "    \"Ridge Regression\": ridge_score,\n",
    "    \"Lasso Regression\": lasso_score\n",
    "    \n",
    "})\n",
    "train_performance"
   ]
  },
  {
   "cell_type": "markdown",
   "metadata": {},
   "source": [
    "## Model Evaluation"
   ]
  },
  {
   "cell_type": "code",
   "execution_count": 26,
   "metadata": {},
   "outputs": [
    {
     "name": "stdout",
     "output_type": "stream",
     "text": [
      "Linear Regression MAE on Test Set is 5.3413\n"
     ]
    }
   ],
   "source": [
    "yhat_base = lr_model.predict(X_test)\n",
    "lr_test_score = mean_absolute_error(yhat_base, y_test).round(4)\n",
    "print(f'Linear Regression MAE on Test Set is {lr_test_score}')"
   ]
  },
  {
   "cell_type": "code",
   "execution_count": 27,
   "metadata": {},
   "outputs": [
    {
     "name": "stdout",
     "output_type": "stream",
     "text": [
      "Polynomial Regression MAE on Test Set is 4.4144\n"
     ]
    }
   ],
   "source": [
    "yhat_poly = grid_poly.predict(X_test)\n",
    "poly_test_score = mean_absolute_error(yhat_poly, y_test).round(4)\n",
    "print(f'Polynomial Regression MAE on Test Set is {poly_test_score}')"
   ]
  },
  {
   "cell_type": "code",
   "execution_count": 28,
   "metadata": {},
   "outputs": [
    {
     "name": "stdout",
     "output_type": "stream",
     "text": [
      "Ridge Regression MAE on Test Set is 4.4145\n"
     ]
    }
   ],
   "source": [
    "yhat_ridge = grid_ridge.predict(X_test)\n",
    "ridge_test_score = mean_absolute_error(yhat_ridge, y_test).round(4)\n",
    "print(f'Ridge Regression MAE on Test Set is {ridge_test_score}')"
   ]
  },
  {
   "cell_type": "code",
   "execution_count": 29,
   "metadata": {},
   "outputs": [
    {
     "name": "stdout",
     "output_type": "stream",
     "text": [
      "Lasso Regression MAE on Test Set is 4.3807\n"
     ]
    }
   ],
   "source": [
    "yhat_lasso = grid_lasso.predict(X_test)\n",
    "lasso_test_score = mean_absolute_error(yhat_lasso, y_test).round(4)\n",
    "print(f'Lasso Regression MAE on Test Set is {lasso_test_score}')"
   ]
  },
  {
   "cell_type": "markdown",
   "metadata": {},
   "source": [
    "### The models' performance on Test Set"
   ]
  },
  {
   "cell_type": "code",
   "execution_count": 30,
   "metadata": {},
   "outputs": [
    {
     "data": {
      "text/plain": [
       "Model                           MAE Score\n",
       "Baseline Linear Regression         5.3413\n",
       "Polynomial Linear Regression       4.4144\n",
       "Ridge Regression                   4.4145\n",
       "Lasso Regression                   4.3807\n",
       "dtype: object"
      ]
     },
     "execution_count": 30,
     "metadata": {},
     "output_type": "execute_result"
    }
   ],
   "source": [
    "test_performance = pd.Series({\n",
    "    \"Model\":\"MAE Score\",\n",
    "    \"Baseline Linear Regression\": lr_test_score,\n",
    "    \"Polynomial Linear Regression\": poly_test_score,\n",
    "    \"Ridge Regression\": ridge_test_score,\n",
    "    \"Lasso Regression\": lasso_test_score\n",
    "    \n",
    "})\n",
    "test_performance"
   ]
  },
  {
   "cell_type": "code",
   "execution_count": 31,
   "metadata": {},
   "outputs": [
    {
     "data": {
      "image/png": "[encoded data removed]",
      "text/plain": [
       "<Figure size 1080x864 with 2 Axes>"
      ]
     },
     "metadata": {},
     "output_type": "display_data"
    }
   ],
   "source": [
    "visualize(yhat_lasso, y_test, \"Test\");"
   ]
  },
  {
   "cell_type": "markdown",
   "metadata": {},
   "source": [
    "# 4. Insights and key findings\n"
   ]
  },
  {
   "cell_type": "code",
   "execution_count": 56,
   "metadata": {},
   "outputs": [],
   "source": [
    "def visualize2(actual, predicted, dataframe = None):\n",
    "    \"\"\"Make regression and residual plots of the data using plotly express\n",
    "    \n",
    "    Arguments:\n",
    "        actual: pd.Series/np.array -> array of actual values\n",
    "        predicted: pd.Series/np.array -> array of predicted values\n",
    "        Optional argument:\n",
    "            dataframe: Options are 'Train', 'Test', None. Default is None \n",
    "                       -> state the type of data\n",
    "    Returns:\n",
    "        plot_1 -> Regression plot\n",
    "        plot_2 -> Residuals' plot\n",
    "    \"\"\"\n",
    "    try:\n",
    "        dataframe = f'{dataframe.title()} '\n",
    "    except:\n",
    "        dataframe = ''\n",
    "    \n",
    "    \n",
    "   \n",
    "    # Create Regression plot\n",
    "    x_range = np.linspace(actual.min(), actual.max(), 100)\n",
    "    y_range = predicted\n",
    "    \n",
    "    fig1 = px.scatter(x= actual, y=predicted, opacity=0.65, \n",
    "                      trendline='ols', trendline_color_override='darkblue')\n",
    "    \n",
    "    fig1.add_traces(go.Scatter(x=x_range, y=y_range, name='Regression Fit'))\n",
    "    fig1.update_layout(\n",
    "        title=f\"Regression Plot of Predicted vs Actual Values for {dataframe}Data\",\n",
    "        xaxis_title=\"Actual Values\",\n",
    "        yaxis_title=\"Predicted Values\"\n",
    "    )\n",
    "    \n",
    "    # Create Residual plot\n",
    "    residuals = np.asarray(predicted) - np.asarray(actual)\n",
    "    \n",
    "    fig2 = px.scatter(\n",
    "        x=actual, y=residuals,\n",
    "        trendline='ols'\n",
    "    )\n",
    "    fig2.update_layout(\n",
    "        title=f\"Residuals for Predicted Values vs Actual Values for {dataframe}Data\",\n",
    "        xaxis_title=\"Actual Values\",\n",
    "        yaxis_title=\"Residual Values\"\n",
    "    )\n",
    "    \n",
    "    return fig1.show(), fig2.show()"
   ]
  },
  {
   "cell_type": "code",
   "execution_count": 58,
   "metadata": {},
   "outputs": [
    {
     "data": {
      "application/vnd.plotly.v1+json": {
       "config": {
        "plotlyServerURL": "https://plot.ly"
       },
       "data": [
        {
         "hovertemplate": "x=%{x}<br>y=%{y}<extra></extra>",
         "legendgroup": "",
         "marker": {
          "color": "#636efa",
          "opacity": 0.65,
          "symbol": "circle"
         },
         "mode": "markers",
         "name": "",
         "orientation": "v",
         "showlegend": false,
         "type": "scatter",
         "x": [
          50,
          50.5,
          43.1,
          33.6,
          13,
          35.5,
          31.6,
          23,
          27,
          40.9,
          25.7,
          54.4,
          26.6,
          25.7,
          39.3,
          48.1,
          17.4,
          27.7,
          45.4,
          24.5,
          37.9,
          40.8,
          51.7,
          21.3,
          39.4,
          36.2,
          40.6,
          42.6,
          21.8,
          51,
          40.1,
          36.8,
          38.4,
          45.5,
          39.7,
          20.8,
          40.6,
          12.8,
          37.3,
          47.7,
          42.2,
          20.9,
          55.3,
          40.3,
          53.3,
          52.5,
          28.4,
          45.1,
          29.8,
          11.2,
          39.7,
          45.9,
          37.7,
          20.5,
          43.5,
          34.3,
          36.3,
          49.7,
          48.6,
          42,
          40.3,
          54.4,
          42.7,
          21.5,
          48,
          28.6,
          29.3,
          35.6,
          34.1,
          24.7,
          13.4,
          42.2,
          42.3,
          21.8,
          42.5,
          40.8,
          43.2
         ],
         "xaxis": "x",
         "y": [
          51.41708866128374,
          40.221424070530254,
          40.32783627099374,
          38.92441474481299,
          18.629834298024956,
          39.359533510128024,
          41.44898303341006,
          29.630487112702802,
          30.752176548010393,
          40.04048063572211,
          23.648080262413355,
          46.25073717571608,
          26.53956420917004,
          20.28180230677775,
          38.39326384131084,
          42.17031049261105,
          14.432248693060291,
          24.529164431792783,
          46.10782924631043,
          35.16934527372127,
          44.985446016181164,
          42.869661175083515,
          42.01304302997033,
          28.091419097098907,
          43.529782793019486,
          41.26604617967865,
          38.192906408318606,
          39.462520578941465,
          24.002334839479314,
          46.11800654752369,
          44.04809024845757,
          38.31669752154294,
          35.526473709458166,
          47.16581250514622,
          42.690448738094666,
          27.268955416945158,
          37.49045648960819,
          21.594030149639615,
          39.45441494179033,
          45.81998555911018,
          39.077320119908194,
          26.28790872239568,
          44.143138963781325,
          36.04071901505433,
          42.56552693619844,
          44.683673176211556,
          25.475395292308264,
          17.78309150561515,
          32.369535863316074,
          15.54258890922419,
          39.86505445546173,
          46.13312226068318,
          38.09672441381622,
          17.275491454478257,
          38.74432533527039,
          41.22203859668224,
          41.14050605279694,
          51.7959251909412,
          46.83658153476563,
          40.97040803907015,
          42.57739575100821,
          47.35909386724462,
          41.711748037409464,
          27.000133417816595,
          37.44127260242742,
          28.44964300771099,
          27.694890395399543,
          39.56337806283249,
          40.09979890439661,
          20.585160142023348,
          18.485487580382742,
          42.69955969169488,
          40.244335407419086,
          20.217564901322405,
          43.22813090604482,
          36.913385200002125,
          40.244335407419086
         ],
         "yaxis": "y"
        },
        {
         "hovertemplate": "<b>OLS trendline</b><br>y = 0.715462 * x + 9.99088<br>R<sup>2</sup>=0.721358<br><br>x=%{x}<br>y=%{y} <b>(trend)</b><extra></extra>",
         "legendgroup": "",
         "line": {
          "color": "darkblue"
         },
         "marker": {
          "color": "#636efa",
          "symbol": "circle"
         },
         "mode": "lines",
         "name": "",
         "showlegend": false,
         "type": "scatter",
         "x": [
          11.2,
          12.8,
          13,
          13.4,
          17.4,
          20.5,
          20.8,
          20.9,
          21.3,
          21.5,
          21.8,
          21.8,
          23,
          24.5,
          24.7,
          25.7,
          25.7,
          26.6,
          27,
          27.7,
          28.4,
          28.6,
          29.3,
          29.8,
          31.6,
          33.6,
          34.1,
          34.3,
          35.5,
          35.6,
          36.2,
          36.3,
          36.8,
          37.3,
          37.7,
          37.9,
          38.4,
          39.3,
          39.4,
          39.7,
          39.7,
          40.1,
          40.3,
          40.3,
          40.6,
          40.6,
          40.8,
          40.8,
          40.9,
          42,
          42.2,
          42.2,
          42.3,
          42.5,
          42.6,
          42.7,
          43.1,
          43.2,
          43.5,
          45.1,
          45.4,
          45.5,
          45.9,
          47.7,
          48,
          48.1,
          48.6,
          49.7,
          50,
          50.5,
          51,
          51.7,
          52.5,
          53.3,
          54.4,
          54.4,
          55.3
         ],
         "xaxis": "x",
         "y": [
          18.004060526289877,
          19.148800319001666,
          19.29189279309064,
          19.578077741268586,
          22.439927223048063,
          24.657860571427157,
          24.872499282560618,
          24.944045519605105,
          25.230230467783056,
          25.373322941872026,
          25.58796165300549,
          25.58796165300549,
          26.44651649753933,
          27.519710053206637,
          27.66280252729561,
          28.37826489774048,
          28.37826489774048,
          29.022181031140864,
          29.308365979318808,
          29.80918963863022,
          30.310013297941627,
          30.4531057720306,
          30.953929431342008,
          31.311660616564442,
          32.59949288336521,
          34.03041762425495,
          34.388148809477386,
          34.53124128356635,
          35.3897961281002,
          35.46134236514469,
          35.89061978741161,
          35.962166024456096,
          36.31989720967853,
          36.677628394900964,
          36.96381334307891,
          37.106905817167885,
          37.46463700239032,
          38.1085531357907,
          38.18009937283519,
          38.39473808396865,
          38.39473808396865,
          38.680923032146595,
          38.82401550623557,
          38.82401550623557,
          39.03865421736903,
          39.03865421736903,
          39.181746691458,
          39.181746691458,
          39.25329292850249,
          40.040301535991844,
          40.183394010080825,
          40.183394010080825,
          40.254940247125305,
          40.39803272121428,
          40.46957895825877,
          40.54112519530326,
          40.827310143481206,
          40.89885638052569,
          41.11349509165915,
          42.25823488437094,
          42.4728735955044,
          42.54441983254889,
          42.83060478072684,
          44.11843704752761,
          44.33307575866107,
          44.404621995705554,
          44.76235318092799,
          45.54936178841734,
          45.764000499550804,
          46.12173168477324,
          46.47946286999567,
          46.98028652930708,
          47.552656425662974,
          48.12502632201887,
          48.91203492950822,
          48.91203492950822,
          49.555951062908605
         ],
         "yaxis": "y"
        },
        {
         "name": "Regression Fit",
         "type": "scatter",
         "x": [
          11.2,
          11.645454545454545,
          12.09090909090909,
          12.536363636363635,
          12.98181818181818,
          13.427272727272726,
          13.872727272727271,
          14.318181818181817,
          14.763636363636362,
          15.209090909090907,
          15.654545454545453,
          16.099999999999998,
          16.545454545454543,
          16.99090909090909,
          17.436363636363634,
          17.88181818181818,
          18.327272727272724,
          18.77272727272727,
          19.21818181818182,
          19.663636363636364,
          20.10909090909091,
          20.554545454545455,
          21,
          21.445454545454545,
          21.89090909090909,
          22.336363636363636,
          22.78181818181818,
          23.227272727272727,
          23.672727272727272,
          24.118181818181817,
          24.563636363636363,
          25.009090909090908,
          25.454545454545453,
          25.9,
          26.345454545454544,
          26.79090909090909,
          27.236363636363635,
          27.68181818181818,
          28.127272727272725,
          28.57272727272727,
          29.018181818181816,
          29.46363636363636,
          29.909090909090907,
          30.354545454545452,
          30.799999999999997,
          31.245454545454542,
          31.690909090909088,
          32.13636363636363,
          32.58181818181818,
          33.027272727272724,
          33.47272727272727,
          33.918181818181814,
          34.36363636363636,
          34.809090909090905,
          35.25454545454545,
          35.699999999999996,
          36.14545454545454,
          36.590909090909086,
          37.03636363636363,
          37.48181818181818,
          37.92727272727272,
          38.37272727272727,
          38.81818181818181,
          39.26363636363636,
          39.709090909090904,
          40.15454545454545,
          40.599999999999994,
          41.04545454545454,
          41.490909090909085,
          41.93636363636363,
          42.381818181818176,
          42.82727272727272,
          43.272727272727266,
          43.71818181818182,
          44.16363636363636,
          44.60909090909091,
          45.05454545454545,
          45.5,
          45.94545454545454,
          46.39090909090909,
          46.83636363636363,
          47.28181818181818,
          47.72727272727272,
          48.17272727272727,
          48.61818181818181,
          49.06363636363636,
          49.5090909090909,
          49.95454545454545,
          50.39999999999999,
          50.845454545454544,
          51.29090909090908,
          51.736363636363635,
          52.18181818181817,
          52.627272727272725,
          53.07272727272726,
          53.518181818181816,
          53.963636363636354,
          54.40909090909091,
          54.854545454545445,
          55.3
         ],
         "y": [
          51.41708866128374,
          40.221424070530254,
          40.32783627099374,
          38.92441474481299,
          18.629834298024956,
          39.359533510128024,
          41.44898303341006,
          29.630487112702802,
          30.752176548010393,
          40.04048063572211,
          23.648080262413355,
          46.25073717571608,
          26.53956420917004,
          20.28180230677775,
          38.39326384131084,
          42.17031049261105,
          14.432248693060291,
          24.529164431792783,
          46.10782924631043,
          35.16934527372127,
          44.985446016181164,
          42.869661175083515,
          42.01304302997033,
          28.091419097098907,
          43.529782793019486,
          41.26604617967865,
          38.192906408318606,
          39.462520578941465,
          24.002334839479314,
          46.11800654752369,
          44.04809024845757,
          38.31669752154294,
          35.526473709458166,
          47.16581250514622,
          42.690448738094666,
          27.268955416945158,
          37.49045648960819,
          21.594030149639615,
          39.45441494179033,
          45.81998555911018,
          39.077320119908194,
          26.28790872239568,
          44.143138963781325,
          36.04071901505433,
          42.56552693619844,
          44.683673176211556,
          25.475395292308264,
          17.78309150561515,
          32.369535863316074,
          15.54258890922419,
          39.86505445546173,
          46.13312226068318,
          38.09672441381622,
          17.275491454478257,
          38.74432533527039,
          41.22203859668224,
          41.14050605279694,
          51.7959251909412,
          46.83658153476563,
          40.97040803907015,
          42.57739575100821,
          47.35909386724462,
          41.711748037409464,
          27.000133417816595,
          37.44127260242742,
          28.44964300771099,
          27.694890395399543,
          39.56337806283249,
          40.09979890439661,
          20.585160142023348,
          18.485487580382742,
          42.69955969169488,
          40.244335407419086,
          20.217564901322405,
          43.22813090604482,
          36.913385200002125,
          40.244335407419086
         ]
        }
       ],
       "layout": {
        "legend": {
         "tracegroupgap": 0
        },
        "margin": {
         "t": 60
        },
        "template": {
         "data": {
          "bar": [
           {
            "error_x": {
             "color": "#2a3f5f"
            },
            "error_y": {
             "color": "#2a3f5f"
            },
            "marker": {
             "line": {
              "color": "#E5ECF6",
              "width": 0.5
             },
             "pattern": {
              "fillmode": "overlay",
              "size": 10,
              "solidity": 0.2
             }
            },
            "type": "bar"
           }
          ],
          "barpolar": [
           {
            "marker": {
             "line": {
              "color": "#E5ECF6",
              "width": 0.5
             },
             "pattern": {
              "fillmode": "overlay",
              "size": 10,
              "solidity": 0.2
             }
            },
            "type": "barpolar"
           }
          ],
          "carpet": [
           {
            "aaxis": {
             "endlinecolor": "#2a3f5f",
             "gridcolor": "white",
             "linecolor": "white",
             "minorgridcolor": "white",
             "startlinecolor": "#2a3f5f"
            },
            "baxis": {
             "endlinecolor": "#2a3f5f",
             "gridcolor": "white",
             "linecolor": "white",
             "minorgridcolor": "white",
             "startlinecolor": "#2a3f5f"
            },
            "type": "carpet"
           }
          ],
          "choropleth": [
           {
            "colorbar": {
             "outlinewidth": 0,
             "ticks": ""
            },
            "type": "choropleth"
           }
          ],
          "contour": [
           {
            "colorbar": {
             "outlinewidth": 0,
             "ticks": ""
            },
            "colorscale": [
             [
              0,
              "#0d0887"
             ],
             [
              0.1111111111111111,
              "#46039f"
             ],
             [
              0.2222222222222222,
              "#7201a8"
             ],
             [
              0.3333333333333333,
              "#9c179e"
             ],
             [
              0.4444444444444444,
              "#bd3786"
             ],
             [
              0.5555555555555556,
              "#d8576b"
             ],
             [
              0.6666666666666666,
              "#ed7953"
             ],
             [
              0.7777777777777778,
              "#fb9f3a"
             ],
             [
              0.8888888888888888,
              "#fdca26"
             ],
             [
              1,
              "#f0f921"
             ]
            ],
            "type": "contour"
           }
          ],
          "contourcarpet": [
           {
            "colorbar": {
             "outlinewidth": 0,
             "ticks": ""
            },
            "type": "contourcarpet"
           }
          ],
          "heatmap": [
           {
            "colorbar": {
             "outlinewidth": 0,
             "ticks": ""
            },
            "colorscale": [
             [
              0,
              "#0d0887"
             ],
             [
              0.1111111111111111,
              "#46039f"
             ],
             [
              0.2222222222222222,
              "#7201a8"
             ],
             [
              0.3333333333333333,
              "#9c179e"
             ],
             [
              0.4444444444444444,
              "#bd3786"
             ],
             [
              0.5555555555555556,
              "#d8576b"
             ],
             [
              0.6666666666666666,
              "#ed7953"
             ],
             [
              0.7777777777777778,
              "#fb9f3a"
             ],
             [
              0.8888888888888888,
              "#fdca26"
             ],
             [
              1,
              "#f0f921"
             ]
            ],
            "type": "heatmap"
           }
          ],
          "heatmapgl": [
           {
            "colorbar": {
             "outlinewidth": 0,
             "ticks": ""
            },
            "colorscale": [
             [
              0,
              "#0d0887"
             ],
             [
              0.1111111111111111,
              "#46039f"
             ],
             [
              0.2222222222222222,
              "#7201a8"
             ],
             [
              0.3333333333333333,
              "#9c179e"
             ],
             [
              0.4444444444444444,
              "#bd3786"
             ],
             [
              0.5555555555555556,
              "#d8576b"
             ],
             [
              0.6666666666666666,
              "#ed7953"
             ],
             [
              0.7777777777777778,
              "#fb9f3a"
             ],
             [
              0.8888888888888888,
              "#fdca26"
             ],
             [
              1,
              "#f0f921"
             ]
            ],
            "type": "heatmapgl"
           }
          ],
          "histogram": [
           {
            "marker": {
             "pattern": {
              "fillmode": "overlay",
              "size": 10,
              "solidity": 0.2
             }
            },
            "type": "histogram"
           }
          ],
          "histogram2d": [
           {
            "colorbar": {
             "outlinewidth": 0,
             "ticks": ""
            },
            "colorscale": [
             [
              0,
              "#0d0887"
             ],
             [
              0.1111111111111111,
              "#46039f"
             ],
             [
              0.2222222222222222,
              "#7201a8"
             ],
             [
              0.3333333333333333,
              "#9c179e"
             ],
             [
              0.4444444444444444,
              "#bd3786"
             ],
             [
              0.5555555555555556,
              "#d8576b"
             ],
             [
              0.6666666666666666,
              "#ed7953"
             ],
             [
              0.7777777777777778,
              "#fb9f3a"
             ],
             [
              0.8888888888888888,
              "#fdca26"
             ],
             [
              1,
              "#f0f921"
             ]
            ],
            "type": "histogram2d"
           }
          ],
          "histogram2dcontour": [
           {
            "colorbar": {
             "outlinewidth": 0,
             "ticks": ""
            },
            "colorscale": [
             [
              0,
              "#0d0887"
             ],
             [
              0.1111111111111111,
              "#46039f"
             ],
             [
              0.2222222222222222,
              "#7201a8"
             ],
             [
              0.3333333333333333,
              "#9c179e"
             ],
             [
              0.4444444444444444,
              "#bd3786"
             ],
             [
              0.5555555555555556,
              "#d8576b"
             ],
             [
              0.6666666666666666,
              "#ed7953"
             ],
             [
              0.7777777777777778,
              "#fb9f3a"
             ],
             [
              0.8888888888888888,
              "#fdca26"
             ],
             [
              1,
              "#f0f921"
             ]
            ],
            "type": "histogram2dcontour"
           }
          ],
          "mesh3d": [
           {
            "colorbar": {
             "outlinewidth": 0,
             "ticks": ""
            },
            "type": "mesh3d"
           }
          ],
          "parcoords": [
           {
            "line": {
             "colorbar": {
              "outlinewidth": 0,
              "ticks": ""
             }
            },
            "type": "parcoords"
           }
          ],
          "pie": [
           {
            "automargin": true,
            "type": "pie"
           }
          ],
          "scatter": [
           {
            "fillpattern": {
             "fillmode": "overlay",
             "size": 10,
             "solidity": 0.2
            },
            "type": "scatter"
           }
          ],
          "scatter3d": [
           {
            "line": {
             "colorbar": {
              "outlinewidth": 0,
              "ticks": ""
             }
            },
            "marker": {
             "colorbar": {
              "outlinewidth": 0,
              "ticks": ""
             }
            },
            "type": "scatter3d"
           }
          ],
          "scattercarpet": [
           {
            "marker": {
             "colorbar": {
              "outlinewidth": 0,
              "ticks": ""
             }
            },
            "type": "scattercarpet"
           }
          ],
          "scattergeo": [
           {
            "marker": {
             "colorbar": {
              "outlinewidth": 0,
              "ticks": ""
             }
            },
            "type": "scattergeo"
           }
          ],
          "scattergl": [
           {
            "marker": {
             "colorbar": {
              "outlinewidth": 0,
              "ticks": ""
             }
            },
            "type": "scattergl"
           }
          ],
          "scattermapbox": [
           {
            "marker": {
             "colorbar": {
              "outlinewidth": 0,
              "ticks": ""
             }
            },
            "type": "scattermapbox"
           }
          ],
          "scatterpolar": [
           {
            "marker": {
             "colorbar": {
              "outlinewidth": 0,
              "ticks": ""
             }
            },
            "type": "scatterpolar"
           }
          ],
          "scatterpolargl": [
           {
            "marker": {
             "colorbar": {
              "outlinewidth": 0,
              "ticks": ""
             }
            },
            "type": "scatterpolargl"
           }
          ],
          "scatterternary": [
           {
            "marker": {
             "colorbar": {
              "outlinewidth": 0,
              "ticks": ""
             }
            },
            "type": "scatterternary"
           }
          ],
          "surface": [
           {
            "colorbar": {
             "outlinewidth": 0,
             "ticks": ""
            },
            "colorscale": [
             [
              0,
              "#0d0887"
             ],
             [
              0.1111111111111111,
              "#46039f"
             ],
             [
              0.2222222222222222,
              "#7201a8"
             ],
             [
              0.3333333333333333,
              "#9c179e"
             ],
             [
              0.4444444444444444,
              "#bd3786"
             ],
             [
              0.5555555555555556,
              "#d8576b"
             ],
             [
              0.6666666666666666,
              "#ed7953"
             ],
             [
              0.7777777777777778,
              "#fb9f3a"
             ],
             [
              0.8888888888888888,
              "#fdca26"
             ],
             [
              1,
              "#f0f921"
             ]
            ],
            "type": "surface"
           }
          ],
          "table": [
           {
            "cells": {
             "fill": {
              "color": "#EBF0F8"
             },
             "line": {
              "color": "white"
             }
            },
            "header": {
             "fill": {
              "color": "#C8D4E3"
             },
             "line": {
              "color": "white"
             }
            },
            "type": "table"
           }
          ]
         },
         "layout": {
          "annotationdefaults": {
           "arrowcolor": "#2a3f5f",
           "arrowhead": 0,
           "arrowwidth": 1
          },
          "autotypenumbers": "strict",
          "coloraxis": {
           "colorbar": {
            "outlinewidth": 0,
            "ticks": ""
           }
          },
          "colorscale": {
           "diverging": [
            [
             0,
             "#8e0152"
            ],
            [
             0.1,
             "#c51b7d"
            ],
            [
             0.2,
             "#de77ae"
            ],
            [
             0.3,
             "#f1b6da"
            ],
            [
             0.4,
             "#fde0ef"
            ],
            [
             0.5,
             "#f7f7f7"
            ],
            [
             0.6,
             "#e6f5d0"
            ],
            [
             0.7,
             "#b8e186"
            ],
            [
             0.8,
             "#7fbc41"
            ],
            [
             0.9,
             "#4d9221"
            ],
            [
             1,
             "#276419"
            ]
           ],
           "sequential": [
            [
             0,
             "#0d0887"
            ],
            [
             0.1111111111111111,
             "#46039f"
            ],
            [
             0.2222222222222222,
             "#7201a8"
            ],
            [
             0.3333333333333333,
             "#9c179e"
            ],
            [
             0.4444444444444444,
             "#bd3786"
            ],
            [
             0.5555555555555556,
             "#d8576b"
            ],
            [
             0.6666666666666666,
             "#ed7953"
            ],
            [
             0.7777777777777778,
             "#fb9f3a"
            ],
            [
             0.8888888888888888,
             "#fdca26"
            ],
            [
             1,
             "#f0f921"
            ]
           ],
           "sequentialminus": [
            [
             0,
             "#0d0887"
            ],
            [
             0.1111111111111111,
             "#46039f"
            ],
            [
             0.2222222222222222,
             "#7201a8"
            ],
            [
             0.3333333333333333,
             "#9c179e"
            ],
            [
             0.4444444444444444,
             "#bd3786"
            ],
            [
             0.5555555555555556,
             "#d8576b"
            ],
            [
             0.6666666666666666,
             "#ed7953"
            ],
            [
             0.7777777777777778,
             "#fb9f3a"
            ],
            [
             0.8888888888888888,
             "#fdca26"
            ],
            [
             1,
             "#f0f921"
            ]
           ]
          },
          "colorway": [
           "#636efa",
           "#EF553B",
           "#00cc96",
           "#ab63fa",
           "#FFA15A",
           "#19d3f3",
           "#FF6692",
           "#B6E880",
           "#FF97FF",
           "#FECB52"
          ],
          "font": {
           "color": "#2a3f5f"
          },
          "geo": {
           "bgcolor": "white",
           "lakecolor": "white",
           "landcolor": "#E5ECF6",
           "showlakes": true,
           "showland": true,
           "subunitcolor": "white"
          },
          "hoverlabel": {
           "align": "left"
          },
          "hovermode": "closest",
          "mapbox": {
           "style": "light"
          },
          "paper_bgcolor": "white",
          "plot_bgcolor": "#E5ECF6",
          "polar": {
           "angularaxis": {
            "gridcolor": "white",
            "linecolor": "white",
            "ticks": ""
           },
           "bgcolor": "#E5ECF6",
           "radialaxis": {
            "gridcolor": "white",
            "linecolor": "white",
            "ticks": ""
           }
          },
          "scene": {
           "xaxis": {
            "backgroundcolor": "#E5ECF6",
            "gridcolor": "white",
            "gridwidth": 2,
            "linecolor": "white",
            "showbackground": true,
            "ticks": "",
            "zerolinecolor": "white"
           },
           "yaxis": {
            "backgroundcolor": "#E5ECF6",
            "gridcolor": "white",
            "gridwidth": 2,
            "linecolor": "white",
            "showbackground": true,
            "ticks": "",
            "zerolinecolor": "white"
           },
           "zaxis": {
            "backgroundcolor": "#E5ECF6",
            "gridcolor": "white",
            "gridwidth": 2,
            "linecolor": "white",
            "showbackground": true,
            "ticks": "",
            "zerolinecolor": "white"
           }
          },
          "shapedefaults": {
           "line": {
            "color": "#2a3f5f"
           }
          },
          "ternary": {
           "aaxis": {
            "gridcolor": "white",
            "linecolor": "white",
            "ticks": ""
           },
           "baxis": {
            "gridcolor": "white",
            "linecolor": "white",
            "ticks": ""
           },
           "bgcolor": "#E5ECF6",
           "caxis": {
            "gridcolor": "white",
            "linecolor": "white",
            "ticks": ""
           }
          },
          "title": {
           "x": 0.05
          },
          "xaxis": {
           "automargin": true,
           "gridcolor": "white",
           "linecolor": "white",
           "ticks": "",
           "title": {
            "standoff": 15
           },
           "zerolinecolor": "white",
           "zerolinewidth": 2
          },
          "yaxis": {
           "automargin": true,
           "gridcolor": "white",
           "linecolor": "white",
           "ticks": "",
           "title": {
            "standoff": 15
           },
           "zerolinecolor": "white",
           "zerolinewidth": 2
          }
         }
        },
        "title": {
         "text": "Regression Plot of Predicted vs Actual Values for Test Data"
        },
        "xaxis": {
         "anchor": "y",
         "domain": [
          0,
          1
         ],
         "title": {
          "text": "Actual Values"
         }
        },
        "yaxis": {
         "anchor": "x",
         "domain": [
          0,
          1
         ],
         "title": {
          "text": "Predicted Values"
         }
        }
       }
      },
      "text/html": [
       "<div>                            <div id=\"eb8716db-e667-4b8f-a2a0-02c98c534a31\" class=\"plotly-graph-div\" style=\"height:525px; width:100%;\"></div>            <script type=\"text/javascript\">                require([\"plotly\"], function(Plotly) {                    window.PLOTLYENV=window.PLOTLYENV || {};                                    if (document.getElementById(\"eb8716db-e667-4b8f-a2a0-02c98c534a31\")) {                    Plotly.newPlot(                        \"eb8716db-e667-4b8f-a2a0-02c98c534a31\",                        [{\"hovertemplate\":\"x=%{x}<br>y=%{y}<extra></extra>\",\"legendgroup\":\"\",\"marker\":{\"color\":\"#636efa\",\"opacity\":0.65,\"symbol\":\"circle\"},\"mode\":\"markers\",\"name\":\"\",\"orientation\":\"v\",\"showlegend\":false,\"x\":[50.0,50.5,43.1,33.6,13.0,35.5,31.6,23.0,27.0,40.9,25.7,54.4,26.6,25.7,39.3,48.1,17.4,27.7,45.4,24.5,37.9,40.8,51.7,21.3,39.4,36.2,40.6,42.6,21.8,51.0,40.1,36.8,38.4,45.5,39.7,20.8,40.6,12.8,37.3,47.7,42.2,20.9,55.3,40.3,53.3,52.5,28.4,45.1,29.8,11.2,39.7,45.9,37.7,20.5,43.5,34.3,36.3,49.7,48.6,42.0,40.3,54.4,42.7,21.5,48.0,28.6,29.3,35.6,34.1,24.7,13.4,42.2,42.3,21.8,42.5,40.8,43.2],\"xaxis\":\"x\",\"y\":[51.41708866128374,40.221424070530254,40.32783627099374,38.92441474481299,18.629834298024956,39.359533510128024,41.44898303341006,29.630487112702802,30.752176548010393,40.04048063572211,23.648080262413355,46.25073717571608,26.53956420917004,20.28180230677775,38.39326384131084,42.17031049261105,14.432248693060291,24.529164431792783,46.10782924631043,35.16934527372127,44.985446016181164,42.869661175083515,42.01304302997033,28.091419097098907,43.529782793019486,41.26604617967865,38.192906408318606,39.462520578941465,24.002334839479314,46.11800654752369,44.04809024845757,38.31669752154294,35.526473709458166,47.16581250514622,42.690448738094666,27.268955416945158,37.49045648960819,21.594030149639615,39.45441494179033,45.81998555911018,39.077320119908194,26.28790872239568,44.143138963781325,36.04071901505433,42.56552693619844,44.683673176211556,25.475395292308264,17.78309150561515,32.369535863316074,15.54258890922419,39.86505445546173,46.13312226068318,38.09672441381622,17.275491454478257,38.74432533527039,41.22203859668224,41.14050605279694,51.7959251909412,46.83658153476563,40.97040803907015,42.57739575100821,47.35909386724462,41.711748037409464,27.000133417816595,37.44127260242742,28.44964300771099,27.694890395399543,39.56337806283249,40.09979890439661,20.585160142023348,18.485487580382742,42.69955969169488,40.244335407419086,20.217564901322405,43.22813090604482,36.913385200002125,40.244335407419086],\"yaxis\":\"y\",\"type\":\"scatter\"},{\"hovertemplate\":\"<b>OLS trendline</b><br>y = 0.715462 * x + 9.99088<br>R<sup>2</sup>=0.721358<br><br>x=%{x}<br>y=%{y} <b>(trend)</b><extra></extra>\",\"legendgroup\":\"\",\"line\":{\"color\":\"darkblue\"},\"marker\":{\"color\":\"#636efa\",\"symbol\":\"circle\"},\"mode\":\"lines\",\"name\":\"\",\"showlegend\":false,\"x\":[11.2,12.8,13.0,13.4,17.4,20.5,20.8,20.9,21.3,21.5,21.8,21.8,23.0,24.5,24.7,25.7,25.7,26.6,27.0,27.7,28.4,28.6,29.3,29.8,31.6,33.6,34.1,34.3,35.5,35.6,36.2,36.3,36.8,37.3,37.7,37.9,38.4,39.3,39.4,39.7,39.7,40.1,40.3,40.3,40.6,40.6,40.8,40.8,40.9,42.0,42.2,42.2,42.3,42.5,42.6,42.7,43.1,43.2,43.5,45.1,45.4,45.5,45.9,47.7,48.0,48.1,48.6,49.7,50.0,50.5,51.0,51.7,52.5,53.3,54.4,54.4,55.3],\"xaxis\":\"x\",\"y\":[18.004060526289877,19.148800319001666,19.29189279309064,19.578077741268586,22.439927223048063,24.657860571427157,24.872499282560618,24.944045519605105,25.230230467783056,25.373322941872026,25.58796165300549,25.58796165300549,26.44651649753933,27.519710053206637,27.66280252729561,28.37826489774048,28.37826489774048,29.022181031140864,29.308365979318808,29.80918963863022,30.310013297941627,30.4531057720306,30.953929431342008,31.311660616564442,32.59949288336521,34.03041762425495,34.388148809477386,34.53124128356635,35.3897961281002,35.46134236514469,35.89061978741161,35.962166024456096,36.31989720967853,36.677628394900964,36.96381334307891,37.106905817167885,37.46463700239032,38.1085531357907,38.18009937283519,38.39473808396865,38.39473808396865,38.680923032146595,38.82401550623557,38.82401550623557,39.03865421736903,39.03865421736903,39.181746691458,39.181746691458,39.25329292850249,40.040301535991844,40.183394010080825,40.183394010080825,40.254940247125305,40.39803272121428,40.46957895825877,40.54112519530326,40.827310143481206,40.89885638052569,41.11349509165915,42.25823488437094,42.4728735955044,42.54441983254889,42.83060478072684,44.11843704752761,44.33307575866107,44.404621995705554,44.76235318092799,45.54936178841734,45.764000499550804,46.12173168477324,46.47946286999567,46.98028652930708,47.552656425662974,48.12502632201887,48.91203492950822,48.91203492950822,49.555951062908605],\"yaxis\":\"y\",\"type\":\"scatter\"},{\"name\":\"Regression Fit\",\"x\":[11.2,11.645454545454545,12.09090909090909,12.536363636363635,12.98181818181818,13.427272727272726,13.872727272727271,14.318181818181817,14.763636363636362,15.209090909090907,15.654545454545453,16.099999999999998,16.545454545454543,16.99090909090909,17.436363636363634,17.88181818181818,18.327272727272724,18.77272727272727,19.21818181818182,19.663636363636364,20.10909090909091,20.554545454545455,21.0,21.445454545454545,21.89090909090909,22.336363636363636,22.78181818181818,23.227272727272727,23.672727272727272,24.118181818181817,24.563636363636363,25.009090909090908,25.454545454545453,25.9,26.345454545454544,26.79090909090909,27.236363636363635,27.68181818181818,28.127272727272725,28.57272727272727,29.018181818181816,29.46363636363636,29.909090909090907,30.354545454545452,30.799999999999997,31.245454545454542,31.690909090909088,32.13636363636363,32.58181818181818,33.027272727272724,33.47272727272727,33.918181818181814,34.36363636363636,34.809090909090905,35.25454545454545,35.699999999999996,36.14545454545454,36.590909090909086,37.03636363636363,37.48181818181818,37.92727272727272,38.37272727272727,38.81818181818181,39.26363636363636,39.709090909090904,40.15454545454545,40.599999999999994,41.04545454545454,41.490909090909085,41.93636363636363,42.381818181818176,42.82727272727272,43.272727272727266,43.71818181818182,44.16363636363636,44.60909090909091,45.05454545454545,45.5,45.94545454545454,46.39090909090909,46.83636363636363,47.28181818181818,47.72727272727272,48.17272727272727,48.61818181818181,49.06363636363636,49.5090909090909,49.95454545454545,50.39999999999999,50.845454545454544,51.29090909090908,51.736363636363635,52.18181818181817,52.627272727272725,53.07272727272726,53.518181818181816,53.963636363636354,54.40909090909091,54.854545454545445,55.3],\"y\":[51.41708866128374,40.221424070530254,40.32783627099374,38.92441474481299,18.629834298024956,39.359533510128024,41.44898303341006,29.630487112702802,30.752176548010393,40.04048063572211,23.648080262413355,46.25073717571608,26.53956420917004,20.28180230677775,38.39326384131084,42.17031049261105,14.432248693060291,24.529164431792783,46.10782924631043,35.16934527372127,44.985446016181164,42.869661175083515,42.01304302997033,28.091419097098907,43.529782793019486,41.26604617967865,38.192906408318606,39.462520578941465,24.002334839479314,46.11800654752369,44.04809024845757,38.31669752154294,35.526473709458166,47.16581250514622,42.690448738094666,27.268955416945158,37.49045648960819,21.594030149639615,39.45441494179033,45.81998555911018,39.077320119908194,26.28790872239568,44.143138963781325,36.04071901505433,42.56552693619844,44.683673176211556,25.475395292308264,17.78309150561515,32.369535863316074,15.54258890922419,39.86505445546173,46.13312226068318,38.09672441381622,17.275491454478257,38.74432533527039,41.22203859668224,41.14050605279694,51.7959251909412,46.83658153476563,40.97040803907015,42.57739575100821,47.35909386724462,41.711748037409464,27.000133417816595,37.44127260242742,28.44964300771099,27.694890395399543,39.56337806283249,40.09979890439661,20.585160142023348,18.485487580382742,42.69955969169488,40.244335407419086,20.217564901322405,43.22813090604482,36.913385200002125,40.244335407419086],\"type\":\"scatter\"}],                        {\"template\":{\"data\":{\"histogram2dcontour\":[{\"type\":\"histogram2dcontour\",\"colorbar\":{\"outlinewidth\":0,\"ticks\":\"\"},\"colorscale\":[[0.0,\"#0d0887\"],[0.1111111111111111,\"#46039f\"],[0.2222222222222222,\"#7201a8\"],[0.3333333333333333,\"#9c179e\"],[0.4444444444444444,\"#bd3786\"],[0.5555555555555556,\"#d8576b\"],[0.6666666666666666,\"#ed7953\"],[0.7777777777777778,\"#fb9f3a\"],[0.8888888888888888,\"#fdca26\"],[1.0,\"#f0f921\"]]}],\"choropleth\":[{\"type\":\"choropleth\",\"colorbar\":{\"outlinewidth\":0,\"ticks\":\"\"}}],\"histogram2d\":[{\"type\":\"histogram2d\",\"colorbar\":{\"outlinewidth\":0,\"ticks\":\"\"},\"colorscale\":[[0.0,\"#0d0887\"],[0.1111111111111111,\"#46039f\"],[0.2222222222222222,\"#7201a8\"],[0.3333333333333333,\"#9c179e\"],[0.4444444444444444,\"#bd3786\"],[0.5555555555555556,\"#d8576b\"],[0.6666666666666666,\"#ed7953\"],[0.7777777777777778,\"#fb9f3a\"],[0.8888888888888888,\"#fdca26\"],[1.0,\"#f0f921\"]]}],\"heatmap\":[{\"type\":\"heatmap\",\"colorbar\":{\"outlinewidth\":0,\"ticks\":\"\"},\"colorscale\":[[0.0,\"#0d0887\"],[0.1111111111111111,\"#46039f\"],[0.2222222222222222,\"#7201a8\"],[0.3333333333333333,\"#9c179e\"],[0.4444444444444444,\"#bd3786\"],[0.5555555555555556,\"#d8576b\"],[0.6666666666666666,\"#ed7953\"],[0.7777777777777778,\"#fb9f3a\"],[0.8888888888888888,\"#fdca26\"],[1.0,\"#f0f921\"]]}],\"heatmapgl\":[{\"type\":\"heatmapgl\",\"colorbar\":{\"outlinewidth\":0,\"ticks\":\"\"},\"colorscale\":[[0.0,\"#0d0887\"],[0.1111111111111111,\"#46039f\"],[0.2222222222222222,\"#7201a8\"],[0.3333333333333333,\"#9c179e\"],[0.4444444444444444,\"#bd3786\"],[0.5555555555555556,\"#d8576b\"],[0.6666666666666666,\"#ed7953\"],[0.7777777777777778,\"#fb9f3a\"],[0.8888888888888888,\"#fdca26\"],[1.0,\"#f0f921\"]]}],\"contourcarpet\":[{\"type\":\"contourcarpet\",\"colorbar\":{\"outlinewidth\":0,\"ticks\":\"\"}}],\"contour\":[{\"type\":\"contour\",\"colorbar\":{\"outlinewidth\":0,\"ticks\":\"\"},\"colorscale\":[[0.0,\"#0d0887\"],[0.1111111111111111,\"#46039f\"],[0.2222222222222222,\"#7201a8\"],[0.3333333333333333,\"#9c179e\"],[0.4444444444444444,\"#bd3786\"],[0.5555555555555556,\"#d8576b\"],[0.6666666666666666,\"#ed7953\"],[0.7777777777777778,\"#fb9f3a\"],[0.8888888888888888,\"#fdca26\"],[1.0,\"#f0f921\"]]}],\"surface\":[{\"type\":\"surface\",\"colorbar\":{\"outlinewidth\":0,\"ticks\":\"\"},\"colorscale\":[[0.0,\"#0d0887\"],[0.1111111111111111,\"#46039f\"],[0.2222222222222222,\"#7201a8\"],[0.3333333333333333,\"#9c179e\"],[0.4444444444444444,\"#bd3786\"],[0.5555555555555556,\"#d8576b\"],[0.6666666666666666,\"#ed7953\"],[0.7777777777777778,\"#fb9f3a\"],[0.8888888888888888,\"#fdca26\"],[1.0,\"#f0f921\"]]}],\"mesh3d\":[{\"type\":\"mesh3d\",\"colorbar\":{\"outlinewidth\":0,\"ticks\":\"\"}}],\"scatter\":[{\"fillpattern\":{\"fillmode\":\"overlay\",\"size\":10,\"solidity\":0.2},\"type\":\"scatter\"}],\"parcoords\":[{\"type\":\"parcoords\",\"line\":{\"colorbar\":{\"outlinewidth\":0,\"ticks\":\"\"}}}],\"scatterpolargl\":[{\"type\":\"scatterpolargl\",\"marker\":{\"colorbar\":{\"outlinewidth\":0,\"ticks\":\"\"}}}],\"bar\":[{\"error_x\":{\"color\":\"#2a3f5f\"},\"error_y\":{\"color\":\"#2a3f5f\"},\"marker\":{\"line\":{\"color\":\"#E5ECF6\",\"width\":0.5},\"pattern\":{\"fillmode\":\"overlay\",\"size\":10,\"solidity\":0.2}},\"type\":\"bar\"}],\"scattergeo\":[{\"type\":\"scattergeo\",\"marker\":{\"colorbar\":{\"outlinewidth\":0,\"ticks\":\"\"}}}],\"scatterpolar\":[{\"type\":\"scatterpolar\",\"marker\":{\"colorbar\":{\"outlinewidth\":0,\"ticks\":\"\"}}}],\"histogram\":[{\"marker\":{\"pattern\":{\"fillmode\":\"overlay\",\"size\":10,\"solidity\":0.2}},\"type\":\"histogram\"}],\"scattergl\":[{\"type\":\"scattergl\",\"marker\":{\"colorbar\":{\"outlinewidth\":0,\"ticks\":\"\"}}}],\"scatter3d\":[{\"type\":\"scatter3d\",\"line\":{\"colorbar\":{\"outlinewidth\":0,\"ticks\":\"\"}},\"marker\":{\"colorbar\":{\"outlinewidth\":0,\"ticks\":\"\"}}}],\"scattermapbox\":[{\"type\":\"scattermapbox\",\"marker\":{\"colorbar\":{\"outlinewidth\":0,\"ticks\":\"\"}}}],\"scatterternary\":[{\"type\":\"scatterternary\",\"marker\":{\"colorbar\":{\"outlinewidth\":0,\"ticks\":\"\"}}}],\"scattercarpet\":[{\"type\":\"scattercarpet\",\"marker\":{\"colorbar\":{\"outlinewidth\":0,\"ticks\":\"\"}}}],\"carpet\":[{\"aaxis\":{\"endlinecolor\":\"#2a3f5f\",\"gridcolor\":\"white\",\"linecolor\":\"white\",\"minorgridcolor\":\"white\",\"startlinecolor\":\"#2a3f5f\"},\"baxis\":{\"endlinecolor\":\"#2a3f5f\",\"gridcolor\":\"white\",\"linecolor\":\"white\",\"minorgridcolor\":\"white\",\"startlinecolor\":\"#2a3f5f\"},\"type\":\"carpet\"}],\"table\":[{\"cells\":{\"fill\":{\"color\":\"#EBF0F8\"},\"line\":{\"color\":\"white\"}},\"header\":{\"fill\":{\"color\":\"#C8D4E3\"},\"line\":{\"color\":\"white\"}},\"type\":\"table\"}],\"barpolar\":[{\"marker\":{\"line\":{\"color\":\"#E5ECF6\",\"width\":0.5},\"pattern\":{\"fillmode\":\"overlay\",\"size\":10,\"solidity\":0.2}},\"type\":\"barpolar\"}],\"pie\":[{\"automargin\":true,\"type\":\"pie\"}]},\"layout\":{\"autotypenumbers\":\"strict\",\"colorway\":[\"#636efa\",\"#EF553B\",\"#00cc96\",\"#ab63fa\",\"#FFA15A\",\"#19d3f3\",\"#FF6692\",\"#B6E880\",\"#FF97FF\",\"#FECB52\"],\"font\":{\"color\":\"#2a3f5f\"},\"hovermode\":\"closest\",\"hoverlabel\":{\"align\":\"left\"},\"paper_bgcolor\":\"white\",\"plot_bgcolor\":\"#E5ECF6\",\"polar\":{\"bgcolor\":\"#E5ECF6\",\"angularaxis\":{\"gridcolor\":\"white\",\"linecolor\":\"white\",\"ticks\":\"\"},\"radialaxis\":{\"gridcolor\":\"white\",\"linecolor\":\"white\",\"ticks\":\"\"}},\"ternary\":{\"bgcolor\":\"#E5ECF6\",\"aaxis\":{\"gridcolor\":\"white\",\"linecolor\":\"white\",\"ticks\":\"\"},\"baxis\":{\"gridcolor\":\"white\",\"linecolor\":\"white\",\"ticks\":\"\"},\"caxis\":{\"gridcolor\":\"white\",\"linecolor\":\"white\",\"ticks\":\"\"}},\"coloraxis\":{\"colorbar\":{\"outlinewidth\":0,\"ticks\":\"\"}},\"colorscale\":{\"sequential\":[[0.0,\"#0d0887\"],[0.1111111111111111,\"#46039f\"],[0.2222222222222222,\"#7201a8\"],[0.3333333333333333,\"#9c179e\"],[0.4444444444444444,\"#bd3786\"],[0.5555555555555556,\"#d8576b\"],[0.6666666666666666,\"#ed7953\"],[0.7777777777777778,\"#fb9f3a\"],[0.8888888888888888,\"#fdca26\"],[1.0,\"#f0f921\"]],\"sequentialminus\":[[0.0,\"#0d0887\"],[0.1111111111111111,\"#46039f\"],[0.2222222222222222,\"#7201a8\"],[0.3333333333333333,\"#9c179e\"],[0.4444444444444444,\"#bd3786\"],[0.5555555555555556,\"#d8576b\"],[0.6666666666666666,\"#ed7953\"],[0.7777777777777778,\"#fb9f3a\"],[0.8888888888888888,\"#fdca26\"],[1.0,\"#f0f921\"]],\"diverging\":[[0,\"#8e0152\"],[0.1,\"#c51b7d\"],[0.2,\"#de77ae\"],[0.3,\"#f1b6da\"],[0.4,\"#fde0ef\"],[0.5,\"#f7f7f7\"],[0.6,\"#e6f5d0\"],[0.7,\"#b8e186\"],[0.8,\"#7fbc41\"],[0.9,\"#4d9221\"],[1,\"#276419\"]]},\"xaxis\":{\"gridcolor\":\"white\",\"linecolor\":\"white\",\"ticks\":\"\",\"title\":{\"standoff\":15},\"zerolinecolor\":\"white\",\"automargin\":true,\"zerolinewidth\":2},\"yaxis\":{\"gridcolor\":\"white\",\"linecolor\":\"white\",\"ticks\":\"\",\"title\":{\"standoff\":15},\"zerolinecolor\":\"white\",\"automargin\":true,\"zerolinewidth\":2},\"scene\":{\"xaxis\":{\"backgroundcolor\":\"#E5ECF6\",\"gridcolor\":\"white\",\"linecolor\":\"white\",\"showbackground\":true,\"ticks\":\"\",\"zerolinecolor\":\"white\",\"gridwidth\":2},\"yaxis\":{\"backgroundcolor\":\"#E5ECF6\",\"gridcolor\":\"white\",\"linecolor\":\"white\",\"showbackground\":true,\"ticks\":\"\",\"zerolinecolor\":\"white\",\"gridwidth\":2},\"zaxis\":{\"backgroundcolor\":\"#E5ECF6\",\"gridcolor\":\"white\",\"linecolor\":\"white\",\"showbackground\":true,\"ticks\":\"\",\"zerolinecolor\":\"white\",\"gridwidth\":2}},\"shapedefaults\":{\"line\":{\"color\":\"#2a3f5f\"}},\"annotationdefaults\":{\"arrowcolor\":\"#2a3f5f\",\"arrowhead\":0,\"arrowwidth\":1},\"geo\":{\"bgcolor\":\"white\",\"landcolor\":\"#E5ECF6\",\"subunitcolor\":\"white\",\"showland\":true,\"showlakes\":true,\"lakecolor\":\"white\"},\"title\":{\"x\":0.05},\"mapbox\":{\"style\":\"light\"}}},\"xaxis\":{\"anchor\":\"y\",\"domain\":[0.0,1.0],\"title\":{\"text\":\"Actual Values\"}},\"yaxis\":{\"anchor\":\"x\",\"domain\":[0.0,1.0],\"title\":{\"text\":\"Predicted Values\"}},\"legend\":{\"tracegroupgap\":0},\"margin\":{\"t\":60},\"title\":{\"text\":\"Regression Plot of Predicted vs Actual Values for Test Data\"}},                        {\"responsive\": true}                    ).then(function(){\n",
       "                            \n",
       "var gd = document.getElementById('eb8716db-e667-4b8f-a2a0-02c98c534a31');\n",
       "var x = new MutationObserver(function (mutations, observer) {{\n",
       "        var display = window.getComputedStyle(gd).display;\n",
       "        if (!display || display === 'none') {{\n",
       "            console.log([gd, 'removed!']);\n",
       "            Plotly.purge(gd);\n",
       "            observer.disconnect();\n",
       "        }}\n",
       "}});\n",
       "\n",
       "// Listen for the removal of the full notebook cells\n",
       "var notebookContainer = gd.closest('#notebook-container');\n",
       "if (notebookContainer) {{\n",
       "    x.observe(notebookContainer, {childList: true});\n",
       "}}\n",
       "\n",
       "// Listen for the clearing of the current output cell\n",
       "var outputEl = gd.closest('.output');\n",
       "if (outputEl) {{\n",
       "    x.observe(outputEl, {childList: true});\n",
       "}}\n",
       "\n",
       "                        })                };                });            </script>        </div>"
      ]
     },
     "metadata": {},
     "output_type": "display_data"
    },
    {
     "data": {
      "application/vnd.plotly.v1+json": {
       "config": {
        "plotlyServerURL": "https://plot.ly"
       },
       "data": [
        {
         "hovertemplate": "x=%{x}<br>y=%{y}<extra></extra>",
         "legendgroup": "",
         "marker": {
          "color": "#636efa",
          "symbol": "circle"
         },
         "mode": "markers",
         "name": "",
         "orientation": "v",
         "showlegend": false,
         "type": "scatter",
         "x": [
          50,
          50.5,
          43.1,
          33.6,
          13,
          35.5,
          31.6,
          23,
          27,
          40.9,
          25.7,
          54.4,
          26.6,
          25.7,
          39.3,
          48.1,
          17.4,
          27.7,
          45.4,
          24.5,
          37.9,
          40.8,
          51.7,
          21.3,
          39.4,
          36.2,
          40.6,
          42.6,
          21.8,
          51,
          40.1,
          36.8,
          38.4,
          45.5,
          39.7,
          20.8,
          40.6,
          12.8,
          37.3,
          47.7,
          42.2,
          20.9,
          55.3,
          40.3,
          53.3,
          52.5,
          28.4,
          45.1,
          29.8,
          11.2,
          39.7,
          45.9,
          37.7,
          20.5,
          43.5,
          34.3,
          36.3,
          49.7,
          48.6,
          42,
          40.3,
          54.4,
          42.7,
          21.5,
          48,
          28.6,
          29.3,
          35.6,
          34.1,
          24.7,
          13.4,
          42.2,
          42.3,
          21.8,
          42.5,
          40.8,
          43.2
         ],
         "xaxis": "x",
         "y": [
          1.4170886612837421,
          -10.278575929469746,
          -2.772163729006259,
          5.324414744812991,
          5.6298342980249565,
          3.859533510128024,
          9.848983033410057,
          6.630487112702802,
          3.752176548010393,
          -0.8595193642778867,
          -2.051919737586644,
          -8.149262824283916,
          -0.06043579082995976,
          -5.41819769322225,
          -0.9067361586891565,
          -5.92968950738895,
          -2.9677513069397072,
          -3.1708355682072167,
          0.7078292463104319,
          10.66934527372127,
          7.085446016181166,
          2.0696611750835174,
          -9.68695697002967,
          6.791419097098906,
          4.129782793019487,
          5.066046179678651,
          -2.407093591681395,
          -3.1374794210585364,
          2.202334839479313,
          -4.8819934524763084,
          3.948090248457568,
          1.5166975215429446,
          -2.8735262905418324,
          1.6658125051462207,
          2.9904487380946634,
          6.468955416945157,
          -3.109543510391809,
          8.794030149639614,
          2.1544149417903355,
          -1.8800144408898234,
          -3.122679880091809,
          5.387908722395682,
          -11.156861036218672,
          -4.2592809849456685,
          -10.734473063801559,
          -7.816326823788444,
          -2.924604707691735,
          -27.31690849438485,
          2.569535863316073,
          4.34258890922419,
          0.16505445546172837,
          0.23312226068318154,
          0.3967244138162158,
          -3.2245085455217435,
          -4.755674664729611,
          6.922038596682242,
          4.84050605279694,
          2.0959251909411947,
          -1.7634184652343734,
          -1.0295919609298494,
          2.277395751008214,
          -7.0409061327553815,
          -0.9882519625905388,
          5.5001334178165955,
          -10.558727397572582,
          -0.15035699228901223,
          -1.6051096046004574,
          3.96337806283249,
          5.999798904396606,
          -4.114839857976651,
          5.0854875803827415,
          0.499559691694877,
          -2.0556645925809107,
          -1.5824350986775961,
          0.728130906044818,
          -3.886614799997872,
          -2.9556645925809164
         ],
         "yaxis": "y"
        },
        {
         "hovertemplate": "<b>OLS trendline</b><br>y = -0.284538 * x + 9.99088<br>R<sup>2</sup>=0.290508<br><br>x=%{x}<br>y=%{y} <b>(trend)</b><extra></extra>",
         "legendgroup": "",
         "marker": {
          "color": "#636efa",
          "symbol": "circle"
         },
         "mode": "lines",
         "name": "",
         "showlegend": false,
         "type": "scatter",
         "x": [
          11.2,
          12.8,
          13,
          13.4,
          17.4,
          20.5,
          20.8,
          20.9,
          21.3,
          21.5,
          21.8,
          21.8,
          23,
          24.5,
          24.7,
          25.7,
          25.7,
          26.6,
          27,
          27.7,
          28.4,
          28.6,
          29.3,
          29.8,
          31.6,
          33.6,
          34.1,
          34.3,
          35.5,
          35.6,
          36.2,
          36.3,
          36.8,
          37.3,
          37.7,
          37.9,
          38.4,
          39.3,
          39.4,
          39.7,
          39.7,
          40.1,
          40.3,
          40.3,
          40.6,
          40.6,
          40.8,
          40.8,
          40.9,
          42,
          42.2,
          42.2,
          42.3,
          42.5,
          42.6,
          42.7,
          43.1,
          43.2,
          43.5,
          45.1,
          45.4,
          45.5,
          45.9,
          47.7,
          48,
          48.1,
          48.6,
          49.7,
          50,
          50.5,
          51,
          51.7,
          52.5,
          53.3,
          54.4,
          54.4,
          55.3
         ],
         "xaxis": "x",
         "y": [
          6.804060526289879,
          6.348800319001668,
          6.291892793090643,
          6.1780777412685906,
          5.039927223048067,
          4.15786057142716,
          4.072499282560621,
          4.044045519605108,
          3.9302304677830557,
          3.873322941872029,
          3.78796165300549,
          3.78796165300549,
          3.446516497539333,
          3.0197100532066363,
          2.9628025272956107,
          2.6782648977404797,
          2.6782648977404797,
          2.4221810311408607,
          2.3083659793188085,
          2.109189638630217,
          1.9100132979416262,
          1.8531057720305988,
          1.6539294313420072,
          1.5116606165644413,
          0.999492883365205,
          0.4304176242549431,
          0.288148809477379,
          0.23124128356635332,
          -0.11020387189980418,
          -0.1386576348553188,
          -0.30938021258839754,
          -0.3378339755439086,
          -0.4801027903214745,
          -0.6223716050990404,
          -0.7361866569210935,
          -0.7930941828321192,
          -0.9353629976096851,
          -1.1914468642093023,
          -1.2199006271648152,
          -1.3052619160313554,
          -1.3052619160313554,
          -1.4190769678534085,
          -1.4759844937644324,
          -1.4759844937644324,
          -1.5613457826309727,
          -1.5613457826309727,
          -1.6182533085419983,
          -1.6182533085419983,
          -1.6467070714975112,
          -1.9596984640081558,
          -2.0166059899191833,
          -2.0166059899191833,
          -2.0450597528746943,
          -2.1019672787857218,
          -2.1304210417412346,
          -2.158874804696749,
          -2.2726898565188005,
          -2.301143619474315,
          -2.3865049083408536,
          -2.8417651156290624,
          -2.927126404495601,
          -2.9555801674511155,
          -3.069395219273167,
          -3.581562952472403,
          -3.6669242413389433,
          -3.695378004294456,
          -3.837646819072022,
          -4.150638211582667,
          -4.235999500449205,
          -4.378268315226769,
          -4.520537130004335,
          -4.719713470692929,
          -4.947343574337031,
          -5.174973677981136,
          -5.48796507049178,
          -5.48796507049178,
          -5.744048937091398
         ],
         "yaxis": "y"
        }
       ],
       "layout": {
        "legend": {
         "tracegroupgap": 0
        },
        "margin": {
         "t": 60
        },
        "template": {
         "data": {
          "bar": [
           {
            "error_x": {
             "color": "#2a3f5f"
            },
            "error_y": {
             "color": "#2a3f5f"
            },
            "marker": {
             "line": {
              "color": "#E5ECF6",
              "width": 0.5
             },
             "pattern": {
              "fillmode": "overlay",
              "size": 10,
              "solidity": 0.2
             }
            },
            "type": "bar"
           }
          ],
          "barpolar": [
           {
            "marker": {
             "line": {
              "color": "#E5ECF6",
              "width": 0.5
             },
             "pattern": {
              "fillmode": "overlay",
              "size": 10,
              "solidity": 0.2
             }
            },
            "type": "barpolar"
           }
          ],
          "carpet": [
           {
            "aaxis": {
             "endlinecolor": "#2a3f5f",
             "gridcolor": "white",
             "linecolor": "white",
             "minorgridcolor": "white",
             "startlinecolor": "#2a3f5f"
            },
            "baxis": {
             "endlinecolor": "#2a3f5f",
             "gridcolor": "white",
             "linecolor": "white",
             "minorgridcolor": "white",
             "startlinecolor": "#2a3f5f"
            },
            "type": "carpet"
           }
          ],
          "choropleth": [
           {
            "colorbar": {
             "outlinewidth": 0,
             "ticks": ""
            },
            "type": "choropleth"
           }
          ],
          "contour": [
           {
            "colorbar": {
             "outlinewidth": 0,
             "ticks": ""
            },
            "colorscale": [
             [
              0,
              "#0d0887"
             ],
             [
              0.1111111111111111,
              "#46039f"
             ],
             [
              0.2222222222222222,
              "#7201a8"
             ],
             [
              0.3333333333333333,
              "#9c179e"
             ],
             [
              0.4444444444444444,
              "#bd3786"
             ],
             [
              0.5555555555555556,
              "#d8576b"
             ],
             [
              0.6666666666666666,
              "#ed7953"
             ],
             [
              0.7777777777777778,
              "#fb9f3a"
             ],
             [
              0.8888888888888888,
              "#fdca26"
             ],
             [
              1,
              "#f0f921"
             ]
            ],
            "type": "contour"
           }
          ],
          "contourcarpet": [
           {
            "colorbar": {
             "outlinewidth": 0,
             "ticks": ""
            },
            "type": "contourcarpet"
           }
          ],
          "heatmap": [
           {
            "colorbar": {
             "outlinewidth": 0,
             "ticks": ""
            },
            "colorscale": [
             [
              0,
              "#0d0887"
             ],
             [
              0.1111111111111111,
              "#46039f"
             ],
             [
              0.2222222222222222,
              "#7201a8"
             ],
             [
              0.3333333333333333,
              "#9c179e"
             ],
             [
              0.4444444444444444,
              "#bd3786"
             ],
             [
              0.5555555555555556,
              "#d8576b"
             ],
             [
              0.6666666666666666,
              "#ed7953"
             ],
             [
              0.7777777777777778,
              "#fb9f3a"
             ],
             [
              0.8888888888888888,
              "#fdca26"
             ],
             [
              1,
              "#f0f921"
             ]
            ],
            "type": "heatmap"
           }
          ],
          "heatmapgl": [
           {
            "colorbar": {
             "outlinewidth": 0,
             "ticks": ""
            },
            "colorscale": [
             [
              0,
              "#0d0887"
             ],
             [
              0.1111111111111111,
              "#46039f"
             ],
             [
              0.2222222222222222,
              "#7201a8"
             ],
             [
              0.3333333333333333,
              "#9c179e"
             ],
             [
              0.4444444444444444,
              "#bd3786"
             ],
             [
              0.5555555555555556,
              "#d8576b"
             ],
             [
              0.6666666666666666,
              "#ed7953"
             ],
             [
              0.7777777777777778,
              "#fb9f3a"
             ],
             [
              0.8888888888888888,
              "#fdca26"
             ],
             [
              1,
              "#f0f921"
             ]
            ],
            "type": "heatmapgl"
           }
          ],
          "histogram": [
           {
            "marker": {
             "pattern": {
              "fillmode": "overlay",
              "size": 10,
              "solidity": 0.2
             }
            },
            "type": "histogram"
           }
          ],
          "histogram2d": [
           {
            "colorbar": {
             "outlinewidth": 0,
             "ticks": ""
            },
            "colorscale": [
             [
              0,
              "#0d0887"
             ],
             [
              0.1111111111111111,
              "#46039f"
             ],
             [
              0.2222222222222222,
              "#7201a8"
             ],
             [
              0.3333333333333333,
              "#9c179e"
             ],
             [
              0.4444444444444444,
              "#bd3786"
             ],
             [
              0.5555555555555556,
              "#d8576b"
             ],
             [
              0.6666666666666666,
              "#ed7953"
             ],
             [
              0.7777777777777778,
              "#fb9f3a"
             ],
             [
              0.8888888888888888,
              "#fdca26"
             ],
             [
              1,
              "#f0f921"
             ]
            ],
            "type": "histogram2d"
           }
          ],
          "histogram2dcontour": [
           {
            "colorbar": {
             "outlinewidth": 0,
             "ticks": ""
            },
            "colorscale": [
             [
              0,
              "#0d0887"
             ],
             [
              0.1111111111111111,
              "#46039f"
             ],
             [
              0.2222222222222222,
              "#7201a8"
             ],
             [
              0.3333333333333333,
              "#9c179e"
             ],
             [
              0.4444444444444444,
              "#bd3786"
             ],
             [
              0.5555555555555556,
              "#d8576b"
             ],
             [
              0.6666666666666666,
              "#ed7953"
             ],
             [
              0.7777777777777778,
              "#fb9f3a"
             ],
             [
              0.8888888888888888,
              "#fdca26"
             ],
             [
              1,
              "#f0f921"
             ]
            ],
            "type": "histogram2dcontour"
           }
          ],
          "mesh3d": [
           {
            "colorbar": {
             "outlinewidth": 0,
             "ticks": ""
            },
            "type": "mesh3d"
           }
          ],
          "parcoords": [
           {
            "line": {
             "colorbar": {
              "outlinewidth": 0,
              "ticks": ""
             }
            },
            "type": "parcoords"
           }
          ],
          "pie": [
           {
            "automargin": true,
            "type": "pie"
           }
          ],
          "scatter": [
           {
            "fillpattern": {
             "fillmode": "overlay",
             "size": 10,
             "solidity": 0.2
            },
            "type": "scatter"
           }
          ],
          "scatter3d": [
           {
            "line": {
             "colorbar": {
              "outlinewidth": 0,
              "ticks": ""
             }
            },
            "marker": {
             "colorbar": {
              "outlinewidth": 0,
              "ticks": ""
             }
            },
            "type": "scatter3d"
           }
          ],
          "scattercarpet": [
           {
            "marker": {
             "colorbar": {
              "outlinewidth": 0,
              "ticks": ""
             }
            },
            "type": "scattercarpet"
           }
          ],
          "scattergeo": [
           {
            "marker": {
             "colorbar": {
              "outlinewidth": 0,
              "ticks": ""
             }
            },
            "type": "scattergeo"
           }
          ],
          "scattergl": [
           {
            "marker": {
             "colorbar": {
              "outlinewidth": 0,
              "ticks": ""
             }
            },
            "type": "scattergl"
           }
          ],
          "scattermapbox": [
           {
            "marker": {
             "colorbar": {
              "outlinewidth": 0,
              "ticks": ""
             }
            },
            "type": "scattermapbox"
           }
          ],
          "scatterpolar": [
           {
            "marker": {
             "colorbar": {
              "outlinewidth": 0,
              "ticks": ""
             }
            },
            "type": "scatterpolar"
           }
          ],
          "scatterpolargl": [
           {
            "marker": {
             "colorbar": {
              "outlinewidth": 0,
              "ticks": ""
             }
            },
            "type": "scatterpolargl"
           }
          ],
          "scatterternary": [
           {
            "marker": {
             "colorbar": {
              "outlinewidth": 0,
              "ticks": ""
             }
            },
            "type": "scatterternary"
           }
          ],
          "surface": [
           {
            "colorbar": {
             "outlinewidth": 0,
             "ticks": ""
            },
            "colorscale": [
             [
              0,
              "#0d0887"
             ],
             [
              0.1111111111111111,
              "#46039f"
             ],
             [
              0.2222222222222222,
              "#7201a8"
             ],
             [
              0.3333333333333333,
              "#9c179e"
             ],
             [
              0.4444444444444444,
              "#bd3786"
             ],
             [
              0.5555555555555556,
              "#d8576b"
             ],
             [
              0.6666666666666666,
              "#ed7953"
             ],
             [
              0.7777777777777778,
              "#fb9f3a"
             ],
             [
              0.8888888888888888,
              "#fdca26"
             ],
             [
              1,
              "#f0f921"
             ]
            ],
            "type": "surface"
           }
          ],
          "table": [
           {
            "cells": {
             "fill": {
              "color": "#EBF0F8"
             },
             "line": {
              "color": "white"
             }
            },
            "header": {
             "fill": {
              "color": "#C8D4E3"
             },
             "line": {
              "color": "white"
             }
            },
            "type": "table"
           }
          ]
         },
         "layout": {
          "annotationdefaults": {
           "arrowcolor": "#2a3f5f",
           "arrowhead": 0,
           "arrowwidth": 1
          },
          "autotypenumbers": "strict",
          "coloraxis": {
           "colorbar": {
            "outlinewidth": 0,
            "ticks": ""
           }
          },
          "colorscale": {
           "diverging": [
            [
             0,
             "#8e0152"
            ],
            [
             0.1,
             "#c51b7d"
            ],
            [
             0.2,
             "#de77ae"
            ],
            [
             0.3,
             "#f1b6da"
            ],
            [
             0.4,
             "#fde0ef"
            ],
            [
             0.5,
             "#f7f7f7"
            ],
            [
             0.6,
             "#e6f5d0"
            ],
            [
             0.7,
             "#b8e186"
            ],
            [
             0.8,
             "#7fbc41"
            ],
            [
             0.9,
             "#4d9221"
            ],
            [
             1,
             "#276419"
            ]
           ],
           "sequential": [
            [
             0,
             "#0d0887"
            ],
            [
             0.1111111111111111,
             "#46039f"
            ],
            [
             0.2222222222222222,
             "#7201a8"
            ],
            [
             0.3333333333333333,
             "#9c179e"
            ],
            [
             0.4444444444444444,
             "#bd3786"
            ],
            [
             0.5555555555555556,
             "#d8576b"
            ],
            [
             0.6666666666666666,
             "#ed7953"
            ],
            [
             0.7777777777777778,
             "#fb9f3a"
            ],
            [
             0.8888888888888888,
             "#fdca26"
            ],
            [
             1,
             "#f0f921"
            ]
           ],
           "sequentialminus": [
            [
             0,
             "#0d0887"
            ],
            [
             0.1111111111111111,
             "#46039f"
            ],
            [
             0.2222222222222222,
             "#7201a8"
            ],
            [
             0.3333333333333333,
             "#9c179e"
            ],
            [
             0.4444444444444444,
             "#bd3786"
            ],
            [
             0.5555555555555556,
             "#d8576b"
            ],
            [
             0.6666666666666666,
             "#ed7953"
            ],
            [
             0.7777777777777778,
             "#fb9f3a"
            ],
            [
             0.8888888888888888,
             "#fdca26"
            ],
            [
             1,
             "#f0f921"
            ]
           ]
          },
          "colorway": [
           "#636efa",
           "#EF553B",
           "#00cc96",
           "#ab63fa",
           "#FFA15A",
           "#19d3f3",
           "#FF6692",
           "#B6E880",
           "#FF97FF",
           "#FECB52"
          ],
          "font": {
           "color": "#2a3f5f"
          },
          "geo": {
           "bgcolor": "white",
           "lakecolor": "white",
           "landcolor": "#E5ECF6",
           "showlakes": true,
           "showland": true,
           "subunitcolor": "white"
          },
          "hoverlabel": {
           "align": "left"
          },
          "hovermode": "closest",
          "mapbox": {
           "style": "light"
          },
          "paper_bgcolor": "white",
          "plot_bgcolor": "#E5ECF6",
          "polar": {
           "angularaxis": {
            "gridcolor": "white",
            "linecolor": "white",
            "ticks": ""
           },
           "bgcolor": "#E5ECF6",
           "radialaxis": {
            "gridcolor": "white",
            "linecolor": "white",
            "ticks": ""
           }
          },
          "scene": {
           "xaxis": {
            "backgroundcolor": "#E5ECF6",
            "gridcolor": "white",
            "gridwidth": 2,
            "linecolor": "white",
            "showbackground": true,
            "ticks": "",
            "zerolinecolor": "white"
           },
           "yaxis": {
            "backgroundcolor": "#E5ECF6",
            "gridcolor": "white",
            "gridwidth": 2,
            "linecolor": "white",
            "showbackground": true,
            "ticks": "",
            "zerolinecolor": "white"
           },
           "zaxis": {
            "backgroundcolor": "#E5ECF6",
            "gridcolor": "white",
            "gridwidth": 2,
            "linecolor": "white",
            "showbackground": true,
            "ticks": "",
            "zerolinecolor": "white"
           }
          },
          "shapedefaults": {
           "line": {
            "color": "#2a3f5f"
           }
          },
          "ternary": {
           "aaxis": {
            "gridcolor": "white",
            "linecolor": "white",
            "ticks": ""
           },
           "baxis": {
            "gridcolor": "white",
            "linecolor": "white",
            "ticks": ""
           },
           "bgcolor": "#E5ECF6",
           "caxis": {
            "gridcolor": "white",
            "linecolor": "white",
            "ticks": ""
           }
          },
          "title": {
           "x": 0.05
          },
          "xaxis": {
           "automargin": true,
           "gridcolor": "white",
           "linecolor": "white",
           "ticks": "",
           "title": {
            "standoff": 15
           },
           "zerolinecolor": "white",
           "zerolinewidth": 2
          },
          "yaxis": {
           "automargin": true,
           "gridcolor": "white",
           "linecolor": "white",
           "ticks": "",
           "title": {
            "standoff": 15
           },
           "zerolinecolor": "white",
           "zerolinewidth": 2
          }
         }
        },
        "title": {
         "text": "Residuals for Predicted Values vs Actual Values for Test Data"
        },
        "xaxis": {
         "anchor": "y",
         "domain": [
          0,
          1
         ],
         "title": {
          "text": "Actual Values"
         }
        },
        "yaxis": {
         "anchor": "x",
         "domain": [
          0,
          1
         ],
         "title": {
          "text": "Residual Values"
         }
        }
       }
      },
      "text/html": [
       "<div>                            <div id=\"8f29d3c3-c2cb-4fb4-8886-7eac479070a8\" class=\"plotly-graph-div\" style=\"height:525px; width:100%;\"></div>            <script type=\"text/javascript\">                require([\"plotly\"], function(Plotly) {                    window.PLOTLYENV=window.PLOTLYENV || {};                                    if (document.getElementById(\"8f29d3c3-c2cb-4fb4-8886-7eac479070a8\")) {                    Plotly.newPlot(                        \"8f29d3c3-c2cb-4fb4-8886-7eac479070a8\",                        [{\"hovertemplate\":\"x=%{x}<br>y=%{y}<extra></extra>\",\"legendgroup\":\"\",\"marker\":{\"color\":\"#636efa\",\"symbol\":\"circle\"},\"mode\":\"markers\",\"name\":\"\",\"orientation\":\"v\",\"showlegend\":false,\"x\":[50.0,50.5,43.1,33.6,13.0,35.5,31.6,23.0,27.0,40.9,25.7,54.4,26.6,25.7,39.3,48.1,17.4,27.7,45.4,24.5,37.9,40.8,51.7,21.3,39.4,36.2,40.6,42.6,21.8,51.0,40.1,36.8,38.4,45.5,39.7,20.8,40.6,12.8,37.3,47.7,42.2,20.9,55.3,40.3,53.3,52.5,28.4,45.1,29.8,11.2,39.7,45.9,37.7,20.5,43.5,34.3,36.3,49.7,48.6,42.0,40.3,54.4,42.7,21.5,48.0,28.6,29.3,35.6,34.1,24.7,13.4,42.2,42.3,21.8,42.5,40.8,43.2],\"xaxis\":\"x\",\"y\":[1.4170886612837421,-10.278575929469746,-2.772163729006259,5.324414744812991,5.6298342980249565,3.859533510128024,9.848983033410057,6.630487112702802,3.752176548010393,-0.8595193642778867,-2.051919737586644,-8.149262824283916,-0.06043579082995976,-5.41819769322225,-0.9067361586891565,-5.92968950738895,-2.9677513069397072,-3.1708355682072167,0.7078292463104319,10.66934527372127,7.085446016181166,2.0696611750835174,-9.68695697002967,6.791419097098906,4.129782793019487,5.066046179678651,-2.407093591681395,-3.1374794210585364,2.202334839479313,-4.8819934524763084,3.948090248457568,1.5166975215429446,-2.8735262905418324,1.6658125051462207,2.9904487380946634,6.468955416945157,-3.109543510391809,8.794030149639614,2.1544149417903355,-1.8800144408898234,-3.122679880091809,5.387908722395682,-11.156861036218672,-4.2592809849456685,-10.734473063801559,-7.816326823788444,-2.924604707691735,-27.31690849438485,2.569535863316073,4.34258890922419,0.16505445546172837,0.23312226068318154,0.3967244138162158,-3.2245085455217435,-4.755674664729611,6.922038596682242,4.84050605279694,2.0959251909411947,-1.7634184652343734,-1.0295919609298494,2.277395751008214,-7.0409061327553815,-0.9882519625905388,5.5001334178165955,-10.558727397572582,-0.15035699228901223,-1.6051096046004574,3.96337806283249,5.999798904396606,-4.114839857976651,5.0854875803827415,0.499559691694877,-2.0556645925809107,-1.5824350986775961,0.728130906044818,-3.886614799997872,-2.9556645925809164],\"yaxis\":\"y\",\"type\":\"scatter\"},{\"hovertemplate\":\"<b>OLS trendline</b><br>y = -0.284538 * x + 9.99088<br>R<sup>2</sup>=0.290508<br><br>x=%{x}<br>y=%{y} <b>(trend)</b><extra></extra>\",\"legendgroup\":\"\",\"marker\":{\"color\":\"#636efa\",\"symbol\":\"circle\"},\"mode\":\"lines\",\"name\":\"\",\"showlegend\":false,\"x\":[11.2,12.8,13.0,13.4,17.4,20.5,20.8,20.9,21.3,21.5,21.8,21.8,23.0,24.5,24.7,25.7,25.7,26.6,27.0,27.7,28.4,28.6,29.3,29.8,31.6,33.6,34.1,34.3,35.5,35.6,36.2,36.3,36.8,37.3,37.7,37.9,38.4,39.3,39.4,39.7,39.7,40.1,40.3,40.3,40.6,40.6,40.8,40.8,40.9,42.0,42.2,42.2,42.3,42.5,42.6,42.7,43.1,43.2,43.5,45.1,45.4,45.5,45.9,47.7,48.0,48.1,48.6,49.7,50.0,50.5,51.0,51.7,52.5,53.3,54.4,54.4,55.3],\"xaxis\":\"x\",\"y\":[6.804060526289879,6.348800319001668,6.291892793090643,6.1780777412685906,5.039927223048067,4.15786057142716,4.072499282560621,4.044045519605108,3.9302304677830557,3.873322941872029,3.78796165300549,3.78796165300549,3.446516497539333,3.0197100532066363,2.9628025272956107,2.6782648977404797,2.6782648977404797,2.4221810311408607,2.3083659793188085,2.109189638630217,1.9100132979416262,1.8531057720305988,1.6539294313420072,1.5116606165644413,0.999492883365205,0.4304176242549431,0.288148809477379,0.23124128356635332,-0.11020387189980418,-0.1386576348553188,-0.30938021258839754,-0.3378339755439086,-0.4801027903214745,-0.6223716050990404,-0.7361866569210935,-0.7930941828321192,-0.9353629976096851,-1.1914468642093023,-1.2199006271648152,-1.3052619160313554,-1.3052619160313554,-1.4190769678534085,-1.4759844937644324,-1.4759844937644324,-1.5613457826309727,-1.5613457826309727,-1.6182533085419983,-1.6182533085419983,-1.6467070714975112,-1.9596984640081558,-2.0166059899191833,-2.0166059899191833,-2.0450597528746943,-2.1019672787857218,-2.1304210417412346,-2.158874804696749,-2.2726898565188005,-2.301143619474315,-2.3865049083408536,-2.8417651156290624,-2.927126404495601,-2.9555801674511155,-3.069395219273167,-3.581562952472403,-3.6669242413389433,-3.695378004294456,-3.837646819072022,-4.150638211582667,-4.235999500449205,-4.378268315226769,-4.520537130004335,-4.719713470692929,-4.947343574337031,-5.174973677981136,-5.48796507049178,-5.48796507049178,-5.744048937091398],\"yaxis\":\"y\",\"type\":\"scatter\"}],                        {\"template\":{\"data\":{\"histogram2dcontour\":[{\"type\":\"histogram2dcontour\",\"colorbar\":{\"outlinewidth\":0,\"ticks\":\"\"},\"colorscale\":[[0.0,\"#0d0887\"],[0.1111111111111111,\"#46039f\"],[0.2222222222222222,\"#7201a8\"],[0.3333333333333333,\"#9c179e\"],[0.4444444444444444,\"#bd3786\"],[0.5555555555555556,\"#d8576b\"],[0.6666666666666666,\"#ed7953\"],[0.7777777777777778,\"#fb9f3a\"],[0.8888888888888888,\"#fdca26\"],[1.0,\"#f0f921\"]]}],\"choropleth\":[{\"type\":\"choropleth\",\"colorbar\":{\"outlinewidth\":0,\"ticks\":\"\"}}],\"histogram2d\":[{\"type\":\"histogram2d\",\"colorbar\":{\"outlinewidth\":0,\"ticks\":\"\"},\"colorscale\":[[0.0,\"#0d0887\"],[0.1111111111111111,\"#46039f\"],[0.2222222222222222,\"#7201a8\"],[0.3333333333333333,\"#9c179e\"],[0.4444444444444444,\"#bd3786\"],[0.5555555555555556,\"#d8576b\"],[0.6666666666666666,\"#ed7953\"],[0.7777777777777778,\"#fb9f3a\"],[0.8888888888888888,\"#fdca26\"],[1.0,\"#f0f921\"]]}],\"heatmap\":[{\"type\":\"heatmap\",\"colorbar\":{\"outlinewidth\":0,\"ticks\":\"\"},\"colorscale\":[[0.0,\"#0d0887\"],[0.1111111111111111,\"#46039f\"],[0.2222222222222222,\"#7201a8\"],[0.3333333333333333,\"#9c179e\"],[0.4444444444444444,\"#bd3786\"],[0.5555555555555556,\"#d8576b\"],[0.6666666666666666,\"#ed7953\"],[0.7777777777777778,\"#fb9f3a\"],[0.8888888888888888,\"#fdca26\"],[1.0,\"#f0f921\"]]}],\"heatmapgl\":[{\"type\":\"heatmapgl\",\"colorbar\":{\"outlinewidth\":0,\"ticks\":\"\"},\"colorscale\":[[0.0,\"#0d0887\"],[0.1111111111111111,\"#46039f\"],[0.2222222222222222,\"#7201a8\"],[0.3333333333333333,\"#9c179e\"],[0.4444444444444444,\"#bd3786\"],[0.5555555555555556,\"#d8576b\"],[0.6666666666666666,\"#ed7953\"],[0.7777777777777778,\"#fb9f3a\"],[0.8888888888888888,\"#fdca26\"],[1.0,\"#f0f921\"]]}],\"contourcarpet\":[{\"type\":\"contourcarpet\",\"colorbar\":{\"outlinewidth\":0,\"ticks\":\"\"}}],\"contour\":[{\"type\":\"contour\",\"colorbar\":{\"outlinewidth\":0,\"ticks\":\"\"},\"colorscale\":[[0.0,\"#0d0887\"],[0.1111111111111111,\"#46039f\"],[0.2222222222222222,\"#7201a8\"],[0.3333333333333333,\"#9c179e\"],[0.4444444444444444,\"#bd3786\"],[0.5555555555555556,\"#d8576b\"],[0.6666666666666666,\"#ed7953\"],[0.7777777777777778,\"#fb9f3a\"],[0.8888888888888888,\"#fdca26\"],[1.0,\"#f0f921\"]]}],\"surface\":[{\"type\":\"surface\",\"colorbar\":{\"outlinewidth\":0,\"ticks\":\"\"},\"colorscale\":[[0.0,\"#0d0887\"],[0.1111111111111111,\"#46039f\"],[0.2222222222222222,\"#7201a8\"],[0.3333333333333333,\"#9c179e\"],[0.4444444444444444,\"#bd3786\"],[0.5555555555555556,\"#d8576b\"],[0.6666666666666666,\"#ed7953\"],[0.7777777777777778,\"#fb9f3a\"],[0.8888888888888888,\"#fdca26\"],[1.0,\"#f0f921\"]]}],\"mesh3d\":[{\"type\":\"mesh3d\",\"colorbar\":{\"outlinewidth\":0,\"ticks\":\"\"}}],\"scatter\":[{\"fillpattern\":{\"fillmode\":\"overlay\",\"size\":10,\"solidity\":0.2},\"type\":\"scatter\"}],\"parcoords\":[{\"type\":\"parcoords\",\"line\":{\"colorbar\":{\"outlinewidth\":0,\"ticks\":\"\"}}}],\"scatterpolargl\":[{\"type\":\"scatterpolargl\",\"marker\":{\"colorbar\":{\"outlinewidth\":0,\"ticks\":\"\"}}}],\"bar\":[{\"error_x\":{\"color\":\"#2a3f5f\"},\"error_y\":{\"color\":\"#2a3f5f\"},\"marker\":{\"line\":{\"color\":\"#E5ECF6\",\"width\":0.5},\"pattern\":{\"fillmode\":\"overlay\",\"size\":10,\"solidity\":0.2}},\"type\":\"bar\"}],\"scattergeo\":[{\"type\":\"scattergeo\",\"marker\":{\"colorbar\":{\"outlinewidth\":0,\"ticks\":\"\"}}}],\"scatterpolar\":[{\"type\":\"scatterpolar\",\"marker\":{\"colorbar\":{\"outlinewidth\":0,\"ticks\":\"\"}}}],\"histogram\":[{\"marker\":{\"pattern\":{\"fillmode\":\"overlay\",\"size\":10,\"solidity\":0.2}},\"type\":\"histogram\"}],\"scattergl\":[{\"type\":\"scattergl\",\"marker\":{\"colorbar\":{\"outlinewidth\":0,\"ticks\":\"\"}}}],\"scatter3d\":[{\"type\":\"scatter3d\",\"line\":{\"colorbar\":{\"outlinewidth\":0,\"ticks\":\"\"}},\"marker\":{\"colorbar\":{\"outlinewidth\":0,\"ticks\":\"\"}}}],\"scattermapbox\":[{\"type\":\"scattermapbox\",\"marker\":{\"colorbar\":{\"outlinewidth\":0,\"ticks\":\"\"}}}],\"scatterternary\":[{\"type\":\"scatterternary\",\"marker\":{\"colorbar\":{\"outlinewidth\":0,\"ticks\":\"\"}}}],\"scattercarpet\":[{\"type\":\"scattercarpet\",\"marker\":{\"colorbar\":{\"outlinewidth\":0,\"ticks\":\"\"}}}],\"carpet\":[{\"aaxis\":{\"endlinecolor\":\"#2a3f5f\",\"gridcolor\":\"white\",\"linecolor\":\"white\",\"minorgridcolor\":\"white\",\"startlinecolor\":\"#2a3f5f\"},\"baxis\":{\"endlinecolor\":\"#2a3f5f\",\"gridcolor\":\"white\",\"linecolor\":\"white\",\"minorgridcolor\":\"white\",\"startlinecolor\":\"#2a3f5f\"},\"type\":\"carpet\"}],\"table\":[{\"cells\":{\"fill\":{\"color\":\"#EBF0F8\"},\"line\":{\"color\":\"white\"}},\"header\":{\"fill\":{\"color\":\"#C8D4E3\"},\"line\":{\"color\":\"white\"}},\"type\":\"table\"}],\"barpolar\":[{\"marker\":{\"line\":{\"color\":\"#E5ECF6\",\"width\":0.5},\"pattern\":{\"fillmode\":\"overlay\",\"size\":10,\"solidity\":0.2}},\"type\":\"barpolar\"}],\"pie\":[{\"automargin\":true,\"type\":\"pie\"}]},\"layout\":{\"autotypenumbers\":\"strict\",\"colorway\":[\"#636efa\",\"#EF553B\",\"#00cc96\",\"#ab63fa\",\"#FFA15A\",\"#19d3f3\",\"#FF6692\",\"#B6E880\",\"#FF97FF\",\"#FECB52\"],\"font\":{\"color\":\"#2a3f5f\"},\"hovermode\":\"closest\",\"hoverlabel\":{\"align\":\"left\"},\"paper_bgcolor\":\"white\",\"plot_bgcolor\":\"#E5ECF6\",\"polar\":{\"bgcolor\":\"#E5ECF6\",\"angularaxis\":{\"gridcolor\":\"white\",\"linecolor\":\"white\",\"ticks\":\"\"},\"radialaxis\":{\"gridcolor\":\"white\",\"linecolor\":\"white\",\"ticks\":\"\"}},\"ternary\":{\"bgcolor\":\"#E5ECF6\",\"aaxis\":{\"gridcolor\":\"white\",\"linecolor\":\"white\",\"ticks\":\"\"},\"baxis\":{\"gridcolor\":\"white\",\"linecolor\":\"white\",\"ticks\":\"\"},\"caxis\":{\"gridcolor\":\"white\",\"linecolor\":\"white\",\"ticks\":\"\"}},\"coloraxis\":{\"colorbar\":{\"outlinewidth\":0,\"ticks\":\"\"}},\"colorscale\":{\"sequential\":[[0.0,\"#0d0887\"],[0.1111111111111111,\"#46039f\"],[0.2222222222222222,\"#7201a8\"],[0.3333333333333333,\"#9c179e\"],[0.4444444444444444,\"#bd3786\"],[0.5555555555555556,\"#d8576b\"],[0.6666666666666666,\"#ed7953\"],[0.7777777777777778,\"#fb9f3a\"],[0.8888888888888888,\"#fdca26\"],[1.0,\"#f0f921\"]],\"sequentialminus\":[[0.0,\"#0d0887\"],[0.1111111111111111,\"#46039f\"],[0.2222222222222222,\"#7201a8\"],[0.3333333333333333,\"#9c179e\"],[0.4444444444444444,\"#bd3786\"],[0.5555555555555556,\"#d8576b\"],[0.6666666666666666,\"#ed7953\"],[0.7777777777777778,\"#fb9f3a\"],[0.8888888888888888,\"#fdca26\"],[1.0,\"#f0f921\"]],\"diverging\":[[0,\"#8e0152\"],[0.1,\"#c51b7d\"],[0.2,\"#de77ae\"],[0.3,\"#f1b6da\"],[0.4,\"#fde0ef\"],[0.5,\"#f7f7f7\"],[0.6,\"#e6f5d0\"],[0.7,\"#b8e186\"],[0.8,\"#7fbc41\"],[0.9,\"#4d9221\"],[1,\"#276419\"]]},\"xaxis\":{\"gridcolor\":\"white\",\"linecolor\":\"white\",\"ticks\":\"\",\"title\":{\"standoff\":15},\"zerolinecolor\":\"white\",\"automargin\":true,\"zerolinewidth\":2},\"yaxis\":{\"gridcolor\":\"white\",\"linecolor\":\"white\",\"ticks\":\"\",\"title\":{\"standoff\":15},\"zerolinecolor\":\"white\",\"automargin\":true,\"zerolinewidth\":2},\"scene\":{\"xaxis\":{\"backgroundcolor\":\"#E5ECF6\",\"gridcolor\":\"white\",\"linecolor\":\"white\",\"showbackground\":true,\"ticks\":\"\",\"zerolinecolor\":\"white\",\"gridwidth\":2},\"yaxis\":{\"backgroundcolor\":\"#E5ECF6\",\"gridcolor\":\"white\",\"linecolor\":\"white\",\"showbackground\":true,\"ticks\":\"\",\"zerolinecolor\":\"white\",\"gridwidth\":2},\"zaxis\":{\"backgroundcolor\":\"#E5ECF6\",\"gridcolor\":\"white\",\"linecolor\":\"white\",\"showbackground\":true,\"ticks\":\"\",\"zerolinecolor\":\"white\",\"gridwidth\":2}},\"shapedefaults\":{\"line\":{\"color\":\"#2a3f5f\"}},\"annotationdefaults\":{\"arrowcolor\":\"#2a3f5f\",\"arrowhead\":0,\"arrowwidth\":1},\"geo\":{\"bgcolor\":\"white\",\"landcolor\":\"#E5ECF6\",\"subunitcolor\":\"white\",\"showland\":true,\"showlakes\":true,\"lakecolor\":\"white\"},\"title\":{\"x\":0.05},\"mapbox\":{\"style\":\"light\"}}},\"xaxis\":{\"anchor\":\"y\",\"domain\":[0.0,1.0],\"title\":{\"text\":\"Actual Values\"}},\"yaxis\":{\"anchor\":\"x\",\"domain\":[0.0,1.0],\"title\":{\"text\":\"Residual Values\"}},\"legend\":{\"tracegroupgap\":0},\"margin\":{\"t\":60},\"title\":{\"text\":\"Residuals for Predicted Values vs Actual Values for Test Data\"}},                        {\"responsive\": true}                    ).then(function(){\n",
       "                            \n",
       "var gd = document.getElementById('8f29d3c3-c2cb-4fb4-8886-7eac479070a8');\n",
       "var x = new MutationObserver(function (mutations, observer) {{\n",
       "        var display = window.getComputedStyle(gd).display;\n",
       "        if (!display || display === 'none') {{\n",
       "            console.log([gd, 'removed!']);\n",
       "            Plotly.purge(gd);\n",
       "            observer.disconnect();\n",
       "        }}\n",
       "}});\n",
       "\n",
       "// Listen for the removal of the full notebook cells\n",
       "var notebookContainer = gd.closest('#notebook-container');\n",
       "if (notebookContainer) {{\n",
       "    x.observe(notebookContainer, {childList: true});\n",
       "}}\n",
       "\n",
       "// Listen for the clearing of the current output cell\n",
       "var outputEl = gd.closest('.output');\n",
       "if (outputEl) {{\n",
       "    x.observe(outputEl, {childList: true});\n",
       "}}\n",
       "\n",
       "                        })                };                });            </script>        </div>"
      ]
     },
     "metadata": {},
     "output_type": "display_data"
    },
    {
     "data": {
      "text/plain": [
       "(None, None)"
      ]
     },
     "execution_count": 58,
     "metadata": {},
     "output_type": "execute_result"
    }
   ],
   "source": [
    "visualize2(y_test, yhat_lasso, \"Test\")"
   ]
  },
  {
   "cell_type": "markdown",
   "metadata": {},
   "source": [
    "# 5. Next Steps\n"
   ]
  },
  {
   "cell_type": "code",
   "execution_count": null,
   "metadata": {},
   "outputs": [],
   "source": []
  },
  {
   "cell_type": "code",
   "execution_count": null,
   "metadata": {},
   "outputs": [],
   "source": []
  },
  {
   "cell_type": "markdown",
   "metadata": {},
   "source": [
    "## <h3 align=\"center\"> © IBM Corporation 2020. All rights reserved. <h3/>\n"
   ]
  }
 ],
 "metadata": {
  "kernelspec": {
   "display_name": "Python 3 (ipykernel)",
   "language": "python",
   "name": "python3"
  },
  "language_info": {
   "codemirror_mode": {
    "name": "ipython",
    "version": 3
   },
   "file_extension": ".py",
   "mimetype": "text/x-python",
   "name": "python",
   "nbconvert_exporter": "python",
   "pygments_lexer": "ipython3",
   "version": "3.10.5"
  }
 },
 "nbformat": 4,
 "nbformat_minor": 4
}
